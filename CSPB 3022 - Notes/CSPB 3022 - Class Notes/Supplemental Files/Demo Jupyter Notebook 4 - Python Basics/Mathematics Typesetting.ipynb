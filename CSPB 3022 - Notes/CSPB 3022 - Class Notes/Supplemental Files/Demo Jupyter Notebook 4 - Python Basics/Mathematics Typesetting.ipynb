{
 "cells": [
  {
   "cell_type": "markdown",
   "metadata": {},
   "source": [
    "<figure>\n",
    "  <IMG SRC=\"https://www.colorado.edu/cs/profiles/express/themes/cuspirit/logo.png\" WIDTH=50 ALIGN=\"right\">\n",
    "</figure>\n",
    "# Typesetting Mathematics in Jupyter Notebooks\n",
    "*CSCI 3022 - Dirk Grunwald*"
   ]
  },
  {
   "cell_type": "markdown",
   "metadata": {},
   "source": [
    "## Overview and Goals"
   ]
  },
  {
   "cell_type": "markdown",
   "metadata": {},
   "source": [
    "You'll often use Jupyter notebooks as your complete solution of a problem, either in this course later in practice.\n",
    "\n",
    "At times, you'll need to express the mathematics behind some idea or code. [Donald Kunth](https://en.wikipedia.org/wiki/Donald_Knuth), a famous computer scientist, developed a system called [TeX](https://en.wikipedia.org/wiki/TeX) to typeset mathematics to publish a series of books. This system was later extended to produce [LaTeX](https://en.wikipedia.org/wiki/LaTeX), which was somewhat easier to use.\n",
    "\n",
    "The TeX / LaTeX notation has been widely adopted to typeset mathematics on the web. The same notation is used in [Moodle](https://docs.moodle.org/33/en/Using_TeX_Notation), [Jupyter notebooks](http://data-blog.udacity.com/posts/2016/10/latex-primer/) and [Piazza](http://support.piazza.com/customer/portal/articles/1775067-latex-equation-editor) -- pretty much every tool we'll use. TeX notation [can also be used for web pages through the MathJaX standard](http://docs.mathjax.org/en/latest/tex.html), \n",
    "\n",
    "We're going to go over the basics that you might use in common homework solutions and writeups. There is a more comprehensive but still compact description at this [tutorial on LaTeX typeseting](https://en.wikibooks.org/wiki/LaTeX/Mathematics)."
   ]
  },
  {
   "cell_type": "markdown",
   "metadata": {},
   "source": [
    "## Types of Mathematical displays"
   ]
  },
  {
   "cell_type": "markdown",
   "metadata": {},
   "source": [
    "Equations can either be display _inline_ ($x^2 + y^2$) or _displayed_ such as $$ x^2 + y^2 $$\n",
    "\n",
    "Inline equations are bracked by single dollar signs like ```$x^2 + y^2$```\n",
    "\n",
    "Display equations are backeted by double dollar signs like ```$$ x^2 + y^2 $$```\n",
    "\n",
    "It's also possible to have more complex forms where equations line up, like the following\n",
    "$$\n",
    "\\begin{align}\n",
    "h &= (1-x)^2 + (x+2)^2 \\\\\n",
    " &= (1-x)(1-x) + (x+2)(x+2) \\\\\n",
    " &= 1 -2x + x^2 + x^2 + 4x + 4 \\\\\n",
    " & = 2x^2 + 2x + 5\n",
    "\\end{align}\n",
    "$$\n",
    "It's usually easiest to find an example (like the one above) and modify it to suit your needs. If you have the notebook for the document, just double-click on the markdown cell and you'll see the TeX notation."
   ]
  },
  {
   "cell_type": "markdown",
   "metadata": {},
   "source": [
    "## Basic Mathematical Operations"
   ]
  },
  {
   "cell_type": "markdown",
   "metadata": {},
   "source": [
    "**Basic Equations**\n",
    "\n",
    "For most basic equations, you just type the equation as you might expect, using ```*``` to mean multiply. For example $ x + y * z - 2 / q $.\n",
    "\n",
    "**Subscripts and Superscripts**\n",
    "\n",
    "Subscripts such as $x_i$ use an underbar as in ```x_i```.\n",
    "\n",
    "Superscripts such as $x^2$ use a caret as in ```x^2```.\n",
    "\n",
    "You can use both sub- and super-scripts such as $x_i^2$ by ```x_i^2```.\n",
    "\n",
    "If a sub or super-script is more than a single symbol, you should use braces to indicate the region to be sub- or super-scripted. For example $$ x_{i-1}^{x+2} $$ is ```$$ x_{i-1}^{x+2} $$```. Braces always hidden grouping characters unless you use ```\\{...\\}``` to indicate you actually want braces, *e.g.* $$ A = \\{ X, Y, Q \\} $$.\n",
    "\n",
    "**Fractions**\n",
    "\n",
    "You can express fractions using division $x/y$ using ```$x/y$``` or using \"stacked fractions\" like $\\frac{x}{y}$ using ```\\frac{x}{y}```.\n",
    "\n",
    "**Special Symbols**\n",
    "\n",
    "Some people like to use a cross to represent multiplication, like $x \\times y$ which can be written ```$x \\times y$```. Note that you must leave a space between the ```\\times``` and the ```y``` or you will get an error such as $x \\timesy$ which is shown in red.\n",
    "\n",
    "Other common symbols in this class\n",
    "* Infinity - $\\infty$ ``` $\\infty$```\n",
    "* Pi - $\\pi$ ``` $\\pi$```\n",
    "* Approximate - $\\approx$ ``` $\\approx$```\n",
    "* Right arrow - $\\rightarrow$ ``` $\\rightarrow$```\n",
    "* Epsilon - $\\epsilon$ ``` $\\epsilon$```\n",
    "* Any greek letter such as - $\\theta$ ``` $\\theta$``` in lower case or $\\Theta$ ``` $\\Theta$``` uppercase.\n",
    "\n",
    "The compact [LaTeX reference](https://en.wikibooks.org/wiki/LaTeX/Mathematics#List_of_Mathematical_Symbols) has a comprehensive list of common symbols."
   ]
  },
  {
   "cell_type": "markdown",
   "metadata": {},
   "source": [
    "## Sums"
   ]
  },
  {
   "cell_type": "markdown",
   "metadata": {},
   "source": [
    "It's common to need sums in this course.\n",
    "\n",
    "The common form uses the ```\\sum``` symbol and sub and superscripts. $\\sum_{i=1}^{10} t_i$ is ```\\sum_{i=1}^{10} t_i```\n",
    "\n",
    "Notice how the bounds on the sum are scrunched in to the text in the previous example. You can expand them a little by using ```\\displaystyle``` -- $\\displaystyle\\sum_{i=1}^{10} t_i$ is ```\\displaystyle\\sum_{i=1}^{10} t_i```.\n",
    "\n",
    "Integrals use the same syntax but use ```\\int``` rather than ```\\sum``` -- $\\int_0^\\infty e^{-x}\\,dx$ is ```$\\int_0^\\infty e^{-x}\\,dx$```."
   ]
  },
  {
   "cell_type": "markdown",
   "metadata": {},
   "source": [
    "## Combining Items, Brackets and Parenthesis"
   ]
  },
  {
   "cell_type": "markdown",
   "metadata": {},
   "source": [
    "The short list above is almost enough to write up any assignment needed in this course, but you'll need to combine things and need to use brackets and parenthesis.\n",
    "\n",
    "You can make complex expressions such as\n",
    "$$mean = \\frac{\\sum_{i=1}^{n} x_i}{n}$$\n",
    "using ```$$mean = \\frac{\\sum_{i=1}^{n} x_i}{n}$$```\n",
    "\n",
    "You can improve text like ```mean``` by indicating it's a word unto itself like\n",
    "$$\\mathrm{mean} = \\frac{\\sum_{i=1}^{n} x_i}{n}$$\n",
    "using ```$$\\mathrm{mean} = \\frac{\\sum_{i=1}^{n} x_i}{n}$$```\n"
   ]
  },
  {
   "cell_type": "markdown",
   "metadata": {},
   "source": [
    "Lastly, you can use ```\\left``` and ```\\right``` to make automatically sized parenthesis or brackets. For example\n",
    "\n",
    "$$ 2\\sigma + \\left( \\frac{\\sum_{i=1}^{n} x_i}{n} \\right) $$\n",
    "\n",
    "is ```$$ 2\\sigma + \\left( \\frac{\\sum_{i=1}^{n} x_i}{n} \\right) $$```"
   ]
  },
  {
   "cell_type": "markdown",
   "metadata": {},
   "source": [
    "## Notation common in Statistics, Probability and Data Science"
   ]
  },
  {
   "cell_type": "markdown",
   "metadata": {},
   "source": [
    "There are certain symbols that occurs in statistics and probability. The following is a cheat sheet:\n",
    "\n",
    "* Conditional probability, bayes rule - $$ P(A\\mid B) = \\frac{P(B\\mid A)P(A)}{P(B)} $$\n",
    "* Set union, intersection, complement - $$ A \\cup (B \\cap \\bar C ) \\cap \\overline{P \\cup Q} $$\n",
    "* Measured mean - $$ \\hat x = \\ldots $$"
   ]
  },
  {
   "cell_type": "markdown",
   "metadata": {},
   "source": [
    "## Multiple lines, Aligning Equations"
   ]
  },
  {
   "cell_type": "markdown",
   "metadata": {},
   "source": [
    "You can split equations into multiple lines using ```\\\\``` to indicate end of line. For example\n",
    "```\n",
    "$$\n",
    "a_1 = b_1 + c_1 \\\\\n",
    "a_2 = b_2 + c_2 + d_2\n",
    "$$\n",
    "```\n",
    "produces $$\n",
    "a_1 = b_1 + c_1 \\\\\n",
    "a_2 = b_2 + c_2 + d_2\n",
    "$$\n",
    "\n",
    "You can align equations at *e.g.* the equal sign. For example,\n",
    "```\n",
    "\\begin{align}\n",
    "a_1 & = b_1 + c_1 \\\\\n",
    "a_2 & = b_2 + c_2 + d_2\n",
    "\\end{align}\n",
    "```\n",
    "produces \\begin{align}\n",
    "a_1 & = b_1 + c_1 \\\\\n",
    "a_2 & = b_2 + c_2 + d_2\n",
    "\\end{align}"
   ]
  },
  {
   "cell_type": "markdown",
   "metadata": {},
   "source": [
    "## References and Further Resources"
   ]
  },
  {
   "cell_type": "markdown",
   "metadata": {},
   "source": [
    "TeX and LaTeX are very common and you should be able to find resources, examples and help in troubleshooting by search the web. Here's some good resources to start with.\n",
    "\n",
    "There is a more comprehensive but still compact description at this [tutorial on LaTeX typeseting](https://en.wikibooks.org/wiki/LaTeX/Mathematics).\n",
    "\n",
    "[StackExchange](https://tex.stackexchange.com/) is a question-and-answer website. I usually combine this with searching to see if my search includes a likely answer from StackExchange."
   ]
  },
  {
   "cell_type": "code",
   "execution_count": null,
   "metadata": {},
   "outputs": [],
   "source": []
  }
 ],
 "metadata": {
  "kernelspec": {
   "display_name": "Python 3",
   "language": "python",
   "name": "python3"
  },
  "language_info": {
   "codemirror_mode": {
    "name": "ipython",
    "version": 3
   },
   "file_extension": ".py",
   "mimetype": "text/x-python",
   "name": "python",
   "nbconvert_exporter": "python",
   "pygments_lexer": "ipython3",
   "version": "3.6.2"
  }
 },
 "nbformat": 4,
 "nbformat_minor": 2
}
