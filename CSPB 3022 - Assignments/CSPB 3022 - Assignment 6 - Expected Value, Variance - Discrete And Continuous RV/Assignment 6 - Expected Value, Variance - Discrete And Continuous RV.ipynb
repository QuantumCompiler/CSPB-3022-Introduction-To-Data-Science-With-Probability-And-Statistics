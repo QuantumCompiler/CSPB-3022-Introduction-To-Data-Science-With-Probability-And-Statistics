{
 "cells": [
  {
   "cell_type": "code",
   "execution_count": 38,
   "id": "c81ae250",
   "metadata": {
    "deletable": false,
    "editable": false
   },
   "outputs": [],
   "source": [
    "# Initialize Otter\n",
    "import otter\n",
    "grader = otter.Notebook(\"Assignment 6 - Expected Value, Variance - Discrete And Continuous RV.ipynb\")"
   ]
  },
  {
   "cell_type": "markdown",
   "id": "0a41ef94",
   "metadata": {},
   "source": [
    "# Homework 6\n",
    "\n",
    "## Due on Gradescope\n",
    "\n",
    "\n",
    "### Detailed Submission Instructions Are Provided at the end of this Notebook\n",
    "\n",
    "\n",
    "\n",
    "\n",
    "\n",
    "\n",
    "\n",
    "## Collaboration Policy\n",
    "\n",
    "Data science is a collaborative activity.  However a key step in learning and retention is **creating solutions on your own.**  \n",
    "\n",
    "Please see the **Course Syllabus for the Collaboration Policy**.\n",
    "\n",
    "On the other hand, the following are some **examples of things which would NOT usually be\n",
    "considered to be cheating**:\n",
    " - Working on a HW problem on your own first and then discussing with a classmate a particular part in the problem solution where you are stuck.  After clarifying any questions you should then continue to write your solution independently.\n",
    " - Asking someone (or searching online) how a particular construct in the language works.\n",
    " - Asking someone (or searching online) how to formulate a particular construct in the language.\n",
    " - Asking someone for help in finding an error in your program.  \n",
    " - Asking someone why a particular construct does not work as you expected in a given program.\n",
    "   \n",
    "\n",
    "To test whether you are truly doing your own work and retaining what you've learned you should be able to easily reproduce from scratch and explain a HW solution that was your own when asked in office hours by an Instructor or on a quiz/exam.   \n",
    "\n",
    "\n",
    "If you have difficulty in formulating the general solution to a problem on your own, or\n",
    "you have difficulty in translating that general solution into a program, it is advisable to see\n",
    "your instructor.\n",
    "\n",
    "We are here to help!  Visit OH Hours and/or post questions on Piazza!"
   ]
  },
  {
   "cell_type": "markdown",
   "id": "e4d8a09d",
   "metadata": {},
   "source": [
    "If while completing this assignment you reference any websites other than those linked in this assignment or provided on Canvas please list those references here:\n",
    "\n",
    "**External references**:  *list any websites you referenced"
   ]
  },
  {
   "cell_type": "markdown",
   "id": "24b45ac0",
   "metadata": {},
   "source": [
    "#### Grading\n",
    "Grading is broken down into autograded answers and manually graded answers. \n",
    "\n",
    "For autograded answers, the results of your code are compared to provided and/or hidden tests.\n",
    "\n",
    "For manually graded answers you must show and explain all steps.  Graders will evaluate how well you answered the question and/or fulfilled the requirements of the question.\n",
    "\n",
    "\n",
    "### Score breakdown\n",
    "\n",
    "\n",
    "\n",
    "Question | Points | Grading Type\n",
    "--- | --- | ---\n",
    "Question 1 | 7 | autograded\n",
    "Question 2 | 16 | manual\n",
    "Question 3 | 10 | manual\n",
    "Question 4abcdegh | 14 | manual\n",
    "Question 4f | 3 | autograded\n",
    "|Total | 50"
   ]
  },
  {
   "cell_type": "markdown",
   "id": "c0eec3bc",
   "metadata": {},
   "source": [
    "<a id='top'></a>\n",
    "---\n",
    "**Shortcuts:**  [Problem 2](#p2) | [Problem 3](#p3) | [Problem 4](#p4) | \n",
    "---\n",
    "<hr style=\"border: 5px solid #003262;\" />\n",
    "<hr style=\"border: 1px solid #fdb515;\" />\n",
    "\n"
   ]
  },
  {
   "cell_type": "markdown",
   "id": "20206110",
   "metadata": {},
   "source": [
    "In this HW we explore properties of probability distributions, both theoretically and through simulation.\n"
   ]
  },
  {
   "cell_type": "code",
   "execution_count": 39,
   "id": "931c6bb1",
   "metadata": {
    "scrolled": true
   },
   "outputs": [],
   "source": [
    "import pandas as pd\n",
    "import numpy as np\n",
    "import matplotlib.pylab as plt\n",
    "%matplotlib inline"
   ]
  },
  {
   "cell_type": "markdown",
   "id": "d31b6992",
   "metadata": {},
   "source": [
    "### Question 1"
   ]
  },
  {
   "cell_type": "markdown",
   "id": "0147e431",
   "metadata": {},
   "source": [
    "Factorials and the *binomial coefficients* $\\binom{n}{k} = \\frac{n!}{k!(n-k)!}$ get large very quickly as $n$ gets large. One way to compute them is to use the `SciPy` module `special`. `SciPy` is a collection of Python-based software for math, probability, statistics, science, and engineering."
   ]
  },
  {
   "cell_type": "code",
   "execution_count": 40,
   "id": "a790273f",
   "metadata": {},
   "outputs": [],
   "source": [
    "from scipy import special"
   ]
  },
  {
   "cell_type": "markdown",
   "id": "f129bece",
   "metadata": {},
   "source": [
    "Below are some examples of `special.factorial`:"
   ]
  },
  {
   "cell_type": "code",
   "execution_count": 41,
   "id": "c3979a3c",
   "metadata": {},
   "outputs": [
    {
     "data": {
      "text/plain": [
       "array([  1.,   2.,   6.,  24., 120.])"
      ]
     },
     "execution_count": 41,
     "metadata": {},
     "output_type": "execute_result"
    }
   ],
   "source": [
    "special.factorial(5)\n",
    "\n",
    "special.factorial(range(1, 6))"
   ]
  },
  {
   "cell_type": "markdown",
   "id": "78cf70c7",
   "metadata": {},
   "source": [
    "Traditionally, subsets of $k$ individuals out of a population of $n$ individuals are called *combinations*, and so `special.comb(n, k)` evaluates to $\\binom{n}{k}$. \n",
    "\n",
    "Note that we will always use the term *subsets* to mean un-ordered sets. We will use *permutations* in situations where we need to keep track of the order in which the elements appear.\n",
    "\n",
    "\n",
    "Look at the code and output below carefully (including types) before starting Question 1.\n",
    "\n",
    "\n",
    "https://docs.scipy.org/doc/scipy/reference/generated/scipy.special.comb.html\n",
    "\n"
   ]
  },
  {
   "cell_type": "code",
   "execution_count": 42,
   "id": "7195cb18",
   "metadata": {},
   "outputs": [
    {
     "data": {
      "text/plain": [
       "(10.0, 10.0)"
      ]
     },
     "execution_count": 42,
     "metadata": {},
     "output_type": "execute_result"
    }
   ],
   "source": [
    "special.comb(5, 3), special.factorial(5) / (special.factorial(3) * special.factorial(2))"
   ]
  },
  {
   "cell_type": "code",
   "execution_count": 43,
   "id": "a43ff9ee",
   "metadata": {},
   "outputs": [
    {
     "data": {
      "text/plain": [
       "array([ 1.,  5., 10., 10.,  5.,  1.])"
      ]
     },
     "execution_count": 43,
     "metadata": {},
     "output_type": "execute_result"
    }
   ],
   "source": [
    "special.comb(5, range(6))"
   ]
  },
  {
   "cell_type": "markdown",
   "id": "cb6358c5",
   "metadata": {},
   "source": [
    "Consider a population in which a proportion $p$ of individuals are called \"successes\" (or 1, if you prefer) and the remaining proportion are rudely called \"failures\" (or 0).\n",
    "\n",
    "As we saw in lecture, if you draw a sample of size $n$ (where $n$ is some positive integer) at random with replacement from the population, then the number of successes is a random variable that follows the binomial distribution. The probability of drawing $k$ successes and $n-k$ failures is $\\binom{n}{k}p^k(1-p)^{n-k}$, for $0 \\leq k \\leq n$. To reduce writing, we will shorten \"$k$ successes and $n-k$ failures\" to \"$k$ successes\". In other words, \"$k$ successes\" means \"exactly $k$ successes\".\n",
    "\n",
    "To formalize notation: if $X$ is the number of successes we draw, then $P(X = k) = \\binom{n}{k}p^k(1-p)^{n-k}$."
   ]
  },
  {
   "cell_type": "markdown",
   "id": "4872037a",
   "metadata": {},
   "source": [
    "### Question 1a) ###\n",
    "Suppose you sample 100 times at random with replacement from a population in which 26% of the individuals are successes. Write a Python expression that evaluates to the chance that the sample has 20 successes. \n",
    "\n",
    "**Computational note:** Don't import any other libraries; just use the ones already imported and plug into the formula above. It's far from the best way numerically, but it is fine for the numbers involved in this Homework. "
   ]
  },
  {
   "cell_type": "code",
   "execution_count": 44,
   "id": "709bc2bb",
   "metadata": {
    "tags": []
   },
   "outputs": [
    {
     "data": {
      "text/plain": [
       "0.036911003560024636"
      ]
     },
     "execution_count": 44,
     "metadata": {},
     "output_type": "execute_result"
    }
   ],
   "source": [
    "prob_1a = special.comb(100, 20) * np.power(0.26, 20) * np.power((1 - 0.26), (100 - 20))\n",
    "prob_1a"
   ]
  },
  {
   "cell_type": "code",
   "execution_count": 45,
   "id": "4975a19a",
   "metadata": {
    "deletable": false,
    "editable": false
   },
   "outputs": [
    {
     "data": {
      "text/html": [
       "<p><strong><pre style='display: inline;'>q1a</pre></strong> passed! ✨</p>"
      ],
      "text/plain": [
       "q1a results: All test cases passed!"
      ]
     },
     "execution_count": 45,
     "metadata": {},
     "output_type": "execute_result"
    }
   ],
   "source": [
    "grader.check(\"q1a\")"
   ]
  },
  {
   "cell_type": "markdown",
   "id": "7be85817",
   "metadata": {},
   "source": [
    "### Question 1b) ###\n",
    "Complete the cell with a Python expression that evaluates to an array whose elements are the chances of $k$ successes for $k = 0, 1, 2, \\ldots, 100$. That is, `all_probs[k]` should contain $P(X = k)$, where $X$ is the random variable describing the number of successes drawn from the scenario outlined above."
   ]
  },
  {
   "cell_type": "code",
   "execution_count": 46,
   "id": "e01fef7a",
   "metadata": {
    "tags": []
   },
   "outputs": [
    {
     "data": {
      "text/plain": [
       "(array([0.    , 0.    , 0.    , 0.    , 0.    , 0.    , 0.    , 0.    ,\n",
       "        0.    , 0.    , 0.    , 0.0001, 0.0003, 0.0007, 0.0016, 0.0033,\n",
       "        0.0061, 0.0106, 0.0171, 0.0259, 0.0369, 0.0494, 0.0623, 0.0743,\n",
       "        0.0837, 0.0894, 0.0906, 0.0873, 0.0799, 0.0697, 0.058 , 0.046 ,\n",
       "        0.0349, 0.0252, 0.0175, 0.0116, 0.0073, 0.0045, 0.0026, 0.0015,\n",
       "        0.0008, 0.0004, 0.0002, 0.0001, 0.    , 0.    , 0.    , 0.    ,\n",
       "        0.    , 0.    , 0.    , 0.    , 0.    , 0.    , 0.    , 0.    ,\n",
       "        0.    , 0.    , 0.    , 0.    , 0.    , 0.    , 0.    , 0.    ,\n",
       "        0.    , 0.    , 0.    , 0.    , 0.    , 0.    , 0.    , 0.    ,\n",
       "        0.    , 0.    , 0.    , 0.    , 0.    , 0.    , 0.    , 0.    ,\n",
       "        0.    , 0.    , 0.    , 0.    , 0.    , 0.    , 0.    , 0.    ,\n",
       "        0.    , 0.    , 0.    , 0.    , 0.    , 0.    , 0.    , 0.    ,\n",
       "        0.    , 0.    , 0.    , 0.    , 0.    ]),\n",
       " 0.9999999999999996)"
      ]
     },
     "execution_count": 46,
     "metadata": {},
     "output_type": "execute_result"
    }
   ],
   "source": [
    "k = np.arange(101)\n",
    "all_probs = special.comb(100, k) * np.power(0.26, k) * np.power((1 - 0.26), (100 - k))\n",
    "np.round(all_probs, 4), sum(all_probs)"
   ]
  },
  {
   "cell_type": "code",
   "execution_count": 47,
   "id": "55c77c5e",
   "metadata": {
    "deletable": false,
    "editable": false
   },
   "outputs": [
    {
     "data": {
      "text/html": [
       "<p><strong><pre style='display: inline;'>q1b</pre></strong> passed! 🍀</p>"
      ],
      "text/plain": [
       "q1b results: All test cases passed!"
      ]
     },
     "execution_count": 47,
     "metadata": {},
     "output_type": "execute_result"
    }
   ],
   "source": [
    "grader.check(\"q1b\")"
   ]
  },
  {
   "cell_type": "markdown",
   "id": "17ab40ba",
   "metadata": {},
   "source": [
    "Using the array of probability values we can plot a histogram of this discrete probability distribution as follows.\n",
    "\n",
    "**NOTE:** We set the bin widths to be equal to 1 and add white lines between each value so that we can interpret area in the histogram as probabilities."
   ]
  },
  {
   "cell_type": "code",
   "execution_count": 69,
   "id": "ac404b22",
   "metadata": {},
   "outputs": [
    {
     "data": {
      "image/png": "[encoded data removed]",
      "text/plain": [
       "<Figure size 640x480 with 1 Axes>"
      ]
     },
     "metadata": {},
     "output_type": "display_data"
    }
   ],
   "source": [
    "k = np.arange(101)\n",
    "p = special.comb(100, k)*(0.26**k)*(0.74**(100-k))\n",
    "\n",
    "fig, ax = plt.subplots()\n",
    "\n",
    "ax.bar(k, p, width=1, ec='white');\n",
    "ax.set_axisbelow(True)\n",
    "ax.grid(alpha=0.25)\n",
    "plt.xlim(1,60)\n",
    "plt.title(\"Binomial Distribution, n=100, p=0.26\");\n",
    "\n"
   ]
  },
  {
   "cell_type": "markdown",
   "id": "76e89a52",
   "metadata": {},
   "source": [
    "### Question 1c) ###\n",
    "\n",
    "\n",
    "Complete the cell with an expression that evaluates to the chance that the number of successes in the sample is in the interval $26 \\pm 10$ (inclusive on both sides). In other words, determine $P(16 \\leq X \\leq 36)$. **Hint: You might want to apply your Python indexing knowledge here.**\n",
    "\n",
    "**Note: Please assign your answer to `prob_1c`. Because we use an autograder, please make sure your answer is a proportion between 0 and 1, not a percent between 0 and 100.**"
   ]
  },
  {
   "cell_type": "code",
   "execution_count": 49,
   "id": "1669bcad",
   "metadata": {
    "tags": []
   },
   "outputs": [
    {
     "data": {
      "text/plain": [
       "0.9838345682140125"
      ]
     },
     "execution_count": 49,
     "metadata": {},
     "output_type": "execute_result"
    }
   ],
   "source": [
    "prob_1c = np.sum(p[16:37])\n",
    "prob_1c"
   ]
  },
  {
   "cell_type": "code",
   "execution_count": 50,
   "id": "9c4fa438",
   "metadata": {
    "deletable": false,
    "editable": false
   },
   "outputs": [
    {
     "data": {
      "text/html": [
       "<p><strong><pre style='display: inline;'>q1c</pre></strong> passed! 🌈</p>"
      ],
      "text/plain": [
       "q1c results: All test cases passed!"
      ]
     },
     "execution_count": 50,
     "metadata": {},
     "output_type": "execute_result"
    }
   ],
   "source": [
    "grader.check(\"q1c\")"
   ]
  },
  {
   "cell_type": "markdown",
   "id": "81abfe91",
   "metadata": {},
   "source": [
    "Consider (once again) a sample of size $n$ drawn at random with replacement from a population in which a proportion $p$ of the individuals are called successes.\n",
    "\n",
    "Let $S$ be the random variable that denotes the number of successes in our sample. (As stated above, $S$ follows the binomial distribution.) Then, the probability that the number of successes in our sample is **at most** $s$ (where $0 \\leq s \\leq n$) is\n",
    "\n",
    "$$P(S \\leq s) = P(S = 0) + P(S = 1) + ... + P(S = s) = \\sum_{k=0}^s \\binom{n}{k}p^k(1-p)^{n-k}$$\n",
    "\n",
    "We obtain this by summing the probability that the number of successes is exactly $k$, for each value of $k = 0, 1, 2, ..., s$."
   ]
  },
  {
   "cell_type": "markdown",
   "id": "e58a3dbb",
   "metadata": {},
   "source": [
    "### Question 1d) ###\n",
    "\n",
    "Please fill in the function `prob_at_most` which takes $n$, $p$, and $s$ and returns $P(S \\le s)$ as defined above. If the inputs are invalid: for instance, if $p > 1$ OR $s > n$ then return 0.\" \n",
    "\n",
    "It might help to refer to the calculation in Question 1b."
   ]
  },
  {
   "cell_type": "code",
   "execution_count": 51,
   "id": "7d6ce2b8",
   "metadata": {
    "tags": []
   },
   "outputs": [],
   "source": [
    "def prob_at_most(n, p, s):\n",
    "    \"\"\" \n",
    "    returns the probability of S <= s\n",
    "    Input n: sample size; p : proportion; s: number of successes at most\"\"\"\n",
    "    ret = 0\n",
    "    if (p > 1 or s > n):\n",
    "        return 0\n",
    "    for i in range(s + 1):\n",
    "        ret += special.comb(n, i) * np.power(p, i) * np.power((1 - p), (n - i))\n",
    "    return ret\n",
    "    # Your code above this line"
   ]
  },
  {
   "cell_type": "code",
   "execution_count": 52,
   "id": "0e7a0690",
   "metadata": {
    "deletable": false,
    "editable": false
   },
   "outputs": [
    {
     "data": {
      "text/html": [
       "<p><strong><pre style='display: inline;'>q1d</pre></strong> passed! 🍀</p>"
      ],
      "text/plain": [
       "q1d results: All test cases passed!"
      ]
     },
     "execution_count": 52,
     "metadata": {},
     "output_type": "execute_result"
    }
   ],
   "source": [
    "grader.check(\"q1d\")"
   ]
  },
  {
   "cell_type": "markdown",
   "id": "e334b604",
   "metadata": {},
   "source": [
    "### Question 1e) ###\n",
    "In an election, supporters of Candidate C are in a minority. Only 45% of the voters in the population favor the candidate.\n",
    "\n",
    "Suppose a survey organization takes a sample of 200 voters at random with replacement from this population. Use `prob_at_most` to write an expression that evaluates to the chance that a majority (more than half) of the sampled voters favor Candidate C."
   ]
  },
  {
   "cell_type": "code",
   "execution_count": 53,
   "id": "b77a9bb2",
   "metadata": {
    "tags": []
   },
   "outputs": [
    {
     "data": {
      "text/plain": [
       "0.06807524986263847"
      ]
     },
     "execution_count": 53,
     "metadata": {},
     "output_type": "execute_result"
    }
   ],
   "source": [
    "p_majority = 1 - prob_at_most(200, 0.45, 100)\n",
    "p_majority"
   ]
  },
  {
   "cell_type": "code",
   "execution_count": 54,
   "id": "450b3d47",
   "metadata": {
    "deletable": false,
    "editable": false
   },
   "outputs": [
    {
     "data": {
      "text/html": [
       "<p><strong><pre style='display: inline;'>q1e</pre></strong> passed! 🌟</p>"
      ],
      "text/plain": [
       "q1e results: All test cases passed!"
      ]
     },
     "execution_count": 54,
     "metadata": {},
     "output_type": "execute_result"
    }
   ],
   "source": [
    "grader.check(\"q1e\")"
   ]
  },
  {
   "cell_type": "markdown",
   "id": "aedce6ca",
   "metadata": {},
   "source": [
    "### Question 1f) ###\n",
    "Suppose each of five survey organizations takes a sample of voters at random with replacement from the population of voters in Part **b**, independently of the samples drawn by the other organizations. \n",
    "\n",
    "- Three of the organizations use a sample size of 200\n",
    "- One organization uses a sample size of 300\n",
    "- One organization uses a sample size of 400\n",
    "\n",
    "Write an expression that evaluates to the chance that in at least one of the five samples the majority of voters favor Candidate C. You can use any quantity or function defined earlier in this exercise."
   ]
  },
  {
   "cell_type": "code",
   "execution_count": 55,
   "id": "8ee4d6a2",
   "metadata": {
    "tags": []
   },
   "outputs": [
    {
     "data": {
      "text/plain": [
       "0.23550361568442357"
      ]
     },
     "execution_count": 55,
     "metadata": {},
     "output_type": "execute_result"
    }
   ],
   "source": [
    "prob_1f = 1 - (np.power(prob_at_most(200, 0.45, 100), 3) * prob_at_most(300, 0.45, 150) * prob_at_most(400, 0.45, 200))\n",
    "prob_1f"
   ]
  },
  {
   "cell_type": "code",
   "execution_count": 56,
   "id": "a21968fe",
   "metadata": {
    "deletable": false,
    "editable": false
   },
   "outputs": [
    {
     "data": {
      "text/html": [
       "<p><strong><pre style='display: inline;'>q1f</pre></strong> passed! 🌈</p>"
      ],
      "text/plain": [
       "q1f results: All test cases passed!"
      ]
     },
     "execution_count": 56,
     "metadata": {},
     "output_type": "execute_result"
    }
   ],
   "source": [
    "grader.check(\"q1f\")"
   ]
  },
  {
   "cell_type": "markdown",
   "id": "f630e550",
   "metadata": {},
   "source": [
    "***\n",
    "\n",
    "[Back to top](#top)\n",
    "\n",
    "<a id='p2'></a>\n",
    "\n",
    "### Question 2 - Simulating Roulette\n",
    "\n",
    "\n",
    "A Las Vegas roulette wheel contains 38 numbers $\\{0, 00, 1, 2, \\ldots, 36\\}$. Of the non-zero numbers, 18 are red and 18 are black. You can place bets on various number/color combinations and each type of bet pays-out at a different rate.  For example: \n",
    "\n",
    "- If you bet $\\$1$ on red (or black) and win, then you win $\\$1$ (i.e. you get your original dollar back, plus another dollar). \n",
    "- If you bet $\\$1$ any particular number and win, then you win $\\$35$ (i.e you get your original dollar back, plus $\\$35$). \n",
    "- If you bet $\\$1$ on the first dozen (or second dozen, or third dozen) nonzero numbers and win, then you win $\\$2$ (i.e. you get your original dollar back, plus another $\\$2$. \n",
    "\n",
    "<img src=\"img/roulette_wheel.jpeg\" width=\"330px\">\n",
    "\n",
    "It seems like there are so many ways to win!  In reality, some very careful probability theory was done by the game designers to ensure that there is not much difference in any particular payout.  We'll explore roulette both by simulation and by hand in this exercise. "
   ]
  },
  {
   "cell_type": "markdown",
   "id": "a526842e",
   "metadata": {
    "deletable": false,
    "editable": false
   },
   "source": [
    "<!-- BEGIN QUESTION -->\n",
    "\n",
    "### Question 2a) ### \n",
    "\n",
    "Let $X$ be a random variable that gives your winnings if you bet on red and the roulette wheel is spun once.   \n",
    "\n",
    "i).  What is the probability distribution of $X$?  Give your answer as a table. \n",
    "\n",
    "ii).  Calculate the expected value of your winnings by betting on red.   \n",
    "\n",
    "Write up your full solution in the SAME box below using LaTeX (not code).  Show all steps fully justifying your answer.  "
   ]
  },
  {
   "cell_type": "markdown",
   "id": "78d28226",
   "metadata": {},
   "source": [
    "### Part i\n",
    "\n",
    "In roulette, there are a total of 18 spots that are red out of 38 total spots. This means, roughly, someone has a 18 / 38 chance of their spin landing on a red spot. Here, we are assuming that X is the original wager that is placed on a given color\n",
    "\n",
    "| Color | X (Winnings) | Probability |\n",
    "|-------|--------------|-------------|\n",
    "| Red | +X | 18 / 38 |\n",
    "| Black | -X | 18 / 38 |\n",
    "| Green | -X | 2 / 38 |\n",
    "\n",
    "### Part ii\n",
    "\n",
    "For discrete values, the expectation value of a variable $x$ can be calculated with:\n",
    "\n",
    "$$\n",
    "E(x) = \\sum_{i = 1} x_{i}p_{i}.\n",
    "$$\n",
    "\n",
    "In this case, the probability a ball landing on a red pocket is $\\frac{18}{38} \\approx 0.474$. If we take into account of not landing on red, this probability is then $\\frac{20}{38} \\approx 0.526$. If we assume that we are placing a $1 bet each time, then the expected winnings of just betting on Red are\n",
    "\n",
    "$$\n",
    "E(1) = \\$1 \\cdot \\frac{18}{38} - \\$1 \\cdot \\frac{20}{38} = -\\$\\frac{2}{38} \\approx -\\$0.05.\n",
    "$$\n",
    "\n",
    "This means, if we repeatedly place a $1 bet on Red, we can expect to lose about 5 cents every time we place a bet on Red."
   ]
  },
  {
   "cell_type": "markdown",
   "id": "f44e3ed5",
   "metadata": {
    "deletable": false,
    "editable": false
   },
   "source": [
    "<!-- END QUESTION -->\n",
    "\n",
    "<!-- BEGIN QUESTION -->\n",
    "\n",
    "### Question 2b) ### \n",
    "\n",
    "Let's simulate this.  In the first code box below, write code to simulate one spin of a roulette wheel.  Your output should be a string in the form of the number then the color (i.e. `18R` or `00G`) \n",
    "\n",
    "In the 2nd code box below, write code that takes the number of spins and either the color red or black as input, calculates winnings for each spin assuming you bet on that color for all spins, and then outputs the average winnings out of those spins.  \n",
    "\n",
    "Then run the simulation 3 different times for `num_spins` = 100,000  and compare to your answer from part A.\n",
    "\n",
    "**To receive credit you must write your code such that all lines are visible in your PDF output.**"
   ]
  },
  {
   "cell_type": "code",
   "execution_count": 57,
   "id": "fc313e5a",
   "metadata": {
    "tags": []
   },
   "outputs": [
    {
     "data": {
      "text/plain": [
       "'6B'"
      ]
     },
     "execution_count": 57,
     "metadata": {},
     "output_type": "execute_result"
    }
   ],
   "source": [
    "def spin_roulette():\n",
    "    spotNum = np.random.randint(1,39)\n",
    "    ret = \"\"\n",
    "    if ((1 <= spotNum <= 10) or (19 <= spotNum <= 28)):\n",
    "        if (spotNum % 2 == 0):\n",
    "            ret = str(spotNum) + \"B\"\n",
    "        else:\n",
    "            ret = str(spotNum) + \"R\"\n",
    "    elif ((11 <= spotNum <= 18) or (29 <= spotNum <= 36)):\n",
    "        if (spotNum % 2 == 0):\n",
    "            ret = str(spotNum) + \"R\"\n",
    "        else:\n",
    "            ret = str(spotNum) + \"B\"\n",
    "    else:\n",
    "        if (spotNum == 37):\n",
    "            ret = \"0G\"\n",
    "        else:\n",
    "            ret = \"00G\"\n",
    "    return ret\n",
    "# Your code above this line\n",
    "\n",
    "spin_roulette()\n"
   ]
  },
  {
   "cell_type": "code",
   "execution_count": 58,
   "id": "0b3ccbc3",
   "metadata": {
    "tags": []
   },
   "outputs": [
    {
     "name": "stdout",
     "output_type": "stream",
     "text": [
      "E[Winnings] = -0.052\n",
      "E[Winnings] = -0.052\n",
      "E[Winnings] = -0.054\n"
     ]
    }
   ],
   "source": [
    "def color_winnings(color, num_spins):\n",
    "    winnings = 0\n",
    "    ret = 0\n",
    "    for i in (range(num_spins)):\n",
    "        currentSpin = spin_roulette()\n",
    "        if (currentSpin[-1] == color):\n",
    "            winnings += 1\n",
    "        else:\n",
    "            winnings -= 1\n",
    "    ret = np.round(winnings / num_spins, 5)\n",
    "    return ret\n",
    "\n",
    "# Your code above this line\n",
    "    \n",
    "print(\"E[Winnings] = {:.3f}\".format(color_winnings(color=\"R\", num_spins=int(1e6))))\n",
    "print(\"E[Winnings] = {:.3f}\".format(color_winnings(color=\"R\", num_spins=int(1e6))))\n",
    "print(\"E[Winnings] = {:.3f}\".format(color_winnings(color=\"R\", num_spins=int(1e6))))"
   ]
  },
  {
   "cell_type": "markdown",
   "id": "d0526ce7",
   "metadata": {
    "deletable": false,
    "editable": false
   },
   "source": [
    "<!-- END QUESTION -->\n",
    "\n",
    "<!-- BEGIN QUESTION -->\n",
    "\n",
    "### Question 2c) ### \n",
    "\n",
    "In Roulette you can bet on one of three \"dozens\" segments, called 1st 12, 2nd 12, and 3rd 12. They cover 1-12, 13-24, and 25-36, respectively.   If you bet $\\$1$ on the first dozen (or second dozen, or third dozen) nonzero numbers and win, then you win $\\$2$ (i.e. you get your original dollar back, plus another $\\$2$. \n",
    "\n",
    "Let $Y$ be a random variable that gives your winnings if you bet on any one of the three \"dozen\" nonzero numbers and the roulette wheel is spun once.  \n",
    "\n",
    "i).  What is the probability distribution of $Y$?  Give your answer as a table. \n",
    "\n",
    "ii). What is $E[Y]$?\n",
    "\n",
    "Write up your full solution in the SAME box below using LaTeX (not code).  Show all steps fully justifying your answer.  "
   ]
  },
  {
   "cell_type": "markdown",
   "id": "52b43ccf",
   "metadata": {},
   "source": [
    "### Part i\n",
    "\n",
    "In Roulette, there are three separate dozen increments: 1-12, 13-24, and 25-36. The probability of our ball landing in any one of three dozen increments is $\\frac{12}{38}$ where we still have to account for the probability of our ball landing in a Green pocket. If we assume someone is placing a wager Y on landing in one of these pockets, then the probability distribution is then\n",
    "\n",
    "| Outcome | Y (Winnings) | Probability |\n",
    "|-------|--------------|-------------|\n",
    "| Win(1-12, 13-24, 25-36) | +2Y | 12 / 38 |\n",
    "| Lost(0,00, or other dozens) | -Y | 26 / 38 |\n",
    "\n",
    "### Part ii\n",
    "\n",
    "In this scenario, the probability of our ball landing in one of three dozens that we bet that it would is $\\frac{12}{38} \\approx 0.316$ and $\\frac{26}{38} \\approx 0.684$ if it lands in one of the other 2 dozens or the Green pockets. Assuming that someone is placing a $1 bet on their ball landing in the dozen that they bet on, then the expectation value is then \n",
    "\n",
    "$$\n",
    "E(y) = \\$ 2 \\cdot \\frac{12}{38} - \\$ 1 \\cdot \\frac{26}{38} = -\\$ \\frac{2}{38} \\approx -\\$ 0.05.\n",
    "$$\n",
    "\n",
    "This means, for everyone $1 that someone is betting on one of the three possible dozens, they can expect to lost $0.05."
   ]
  },
  {
   "cell_type": "markdown",
   "id": "70be4034",
   "metadata": {
    "deletable": false,
    "editable": false
   },
   "source": [
    "<!-- END QUESTION -->\n",
    "\n",
    "<!-- BEGIN QUESTION -->\n",
    "\n",
    "### Question 2d) ### \n",
    "\n",
    "Write code to simulate `num_spins` spins, record the winnings for each spin if you bet on the first dozen nonzero numbers, and calculate the average winnings out of the total spins.\n",
    "\n",
    "Then run the simulation 3 different times for `num_spins` = 100,000  and compare to your answer from part C.  \n"
   ]
  },
  {
   "cell_type": "code",
   "execution_count": 59,
   "id": "4915dccd",
   "metadata": {
    "tags": []
   },
   "outputs": [
    {
     "name": "stdout",
     "output_type": "stream",
     "text": [
      "E[Winnings] = -0.050\n",
      "E[Winnings] = -0.051\n",
      "E[Winnings] = -0.049\n"
     ]
    }
   ],
   "source": [
    "def dozen_winnings(num_spins):\n",
    "    winnings = 0\n",
    "    ret = 0\n",
    "    for i in range(num_spins):\n",
    "        currentSpin = spin_roulette()\n",
    "        currentSpin = int(currentSpin[0:-1])\n",
    "        if (1 <= currentSpin <= 12):\n",
    "            winnings += 2\n",
    "        else:\n",
    "            winnings -= 1\n",
    "    ret = np.round(winnings / num_spins, 5)\n",
    "    return ret\n",
    "# Your code above this line\n",
    "    \n",
    "print(\"E[Winnings] = {:.3f}\".format(dozen_winnings(num_spins=100000)))\n",
    "print(\"E[Winnings] = {:.3f}\".format(dozen_winnings(num_spins=100000)))\n",
    "print(\"E[Winnings] = {:.3f}\".format(dozen_winnings(num_spins=100000)))\n"
   ]
  },
  {
   "cell_type": "markdown",
   "id": "fe45bd4a",
   "metadata": {
    "deletable": false,
    "editable": false
   },
   "source": [
    "<!-- END QUESTION -->\n",
    "\n",
    "<!-- BEGIN QUESTION -->\n",
    "\n",
    " ### Question 2e) ###  \n",
    "Recall, we showed in class that the expected winnings if you bet on any number is also $-\\dfrac{1}{19}$.    \n",
    "\n",
    "So  you're hopefully onto the pattern by now.  The payouts in Roulette are designed so that the expected payout for a winning bet is always $-\\dfrac{1}{19}$.  \n",
    "\n",
    "Since we define these payouts in terms of your winnings after betting $1, we can think of these as payout odds.  \n",
    "\n",
    "For example, since if you bet $\\$1$ on the first dozen nonzero numbers and win, then you win $\\$2$, we say the odds are 2 to 1 (denoted 2:1).   \n",
    "\n",
    "The odds are 35:1 for landing on any particular number.  This means if you bet $\\$1$, you’ll win $35.\n",
    "\n",
    "Suppose the casino wanted to develop odds for a new bet in Roulette, where they allow you to bet on any set of 3 different numbers. Let the odds for this new bet be $$x:1$$ What should $x$ be so that the expected payout for a winning bet is still $-\\dfrac{1}{19}$?.\n",
    "\n",
    "Show your work using LaTeX below.  "
   ]
  },
  {
   "cell_type": "markdown",
   "id": "20776167",
   "metadata": {},
   "source": [
    "We know from the problem statement that the expected payout for a winning bet needs to be $-\\frac{1}{19}$, we just need to figure out the payout for a win in this case. The probability of winning on any set of 3 different numbers is $\\left(\\frac{3}{38}\\right)$. Using this our expectation value expression is then\n",
    "\n",
    "$$\n",
    "E(x) = x \\cdot \\frac{3}{38} - 1 \\cdot \\frac{35}{38} = -\\frac{1}{19}.\n",
    "$$\n",
    "\n",
    "We now just need to solve for $x$. Doing so we then have \n",
    "\n",
    "\\begin{align}\n",
    "-\\frac{2}{38} & = x \\cdot \\frac{3}{38} - 1 \\cdot \\frac{35}{38} & \\text{(Expectation Value)} \\\\\n",
    "\\frac{33}{38} & = x \\cdot \\frac{3}{38} & \\text{(Simplification)} \\\\\n",
    "\\frac{33}{\\cancel{38}} \\cdot \\frac{\\cancel{38}}{3} & = x & \\text{(Simplification)} \\\\\n",
    "\\frac{11 \\cdot \\cancel{3}}{\\cancel{3}} & = x & \\text{(Simplification)} \\\\\n",
    "11 & = x & \\text{(Final Simplification)}\n",
    "\\end{align}\n",
    "\n",
    "This means, when the casino is going to allow players to wager on hitting any set of three different numbers, the casino should have a payout of $11:1$ to keep the expected payout for a winning bet of $-\\frac{1}{19}$."
   ]
  },
  {
   "cell_type": "markdown",
   "id": "bd9e64db",
   "metadata": {
    "deletable": false,
    "editable": false
   },
   "source": [
    "<!-- END QUESTION -->\n",
    "\n",
    "<!-- BEGIN QUESTION -->\n",
    "\n",
    " ### Question 2f) ###  \n",
    "Let's generalize this!   \n",
    "\n",
    "Define a function $x(n)$ that describes the odds the casino should give for betting $\\$1$ on any set of $n$ numbers if the casino wants to keep the expected payout for a winning bet at $-\\frac{1}{19}$ for any $n$.   (For example, the odds for betting on any 3 different numbers should be set at $x(3)$ to $1$.  The odds for betting on any 4 different numbers should be set at $x(4)$ to $1$).    \n"
   ]
  },
  {
   "cell_type": "markdown",
   "id": "ddc3c300",
   "metadata": {},
   "source": [
    "To achieve this, we essentially need our expectation value to follow the form of\n",
    "\n",
    "$$\n",
    "x \\cdot \\frac{n}{38} - 1 \\cdot \\frac{38 - n}{38} = -\\frac{1}{19}.\n",
    "$$\n",
    "\n",
    "From the above expression, we just need to solve for $x$. Doing this we then have\n",
    "\n",
    "\\begin{align}\n",
    "x \\cdot \\frac{n}{38} - 1 \\cdot \\frac{38 - n}{38} & = -\\frac{1}{19} & \\text{(Original Expression)} \\\\\n",
    "x \\cdot \\frac{n}{38} & = \\frac{38 - n}{38} - \\frac{1}{19} & \\text{(Simplification)} \\\\\n",
    "x & = \\frac{38}{n} \\left( \\frac{38 - n}{38} - \\frac{1}{19} \\right) & \\text{(Simplification)}.\n",
    "\\end{align}\n",
    "\n",
    "From the above, we can say that our final expression for $x(n)$ is then\n",
    "\n",
    "$$\n",
    "x(n) = \\frac{38}{n} \\left( \\frac{38 - n}{38} - \\frac{1}{19} \\right).\n",
    "$$\n",
    "\n",
    "If we baseline this and check it for when we just bet on one number, the payout should be 35:1. Let's check,\n",
    "\n",
    "$$\n",
    "x(1) = \\frac{38}{1} \\left( \\frac{38 - 1}{38} - \\frac{1}{19} \\right) = 38 \\left( \\frac{37}{38} - \\frac{2}{38} \\right) = \\cancel{38} \\cdot \\frac{35}{\\cancel{38}} = 35.\n",
    "$$\n",
    "\n",
    "We can see, that this works for $x(1)$, and then should work for other values as well."
   ]
  },
  {
   "cell_type": "markdown",
   "id": "3c945c0b",
   "metadata": {
    "deletable": false,
    "editable": false
   },
   "source": [
    "<!-- END QUESTION -->\n",
    "\n",
    "***\n",
    "\n",
    "[Back to top](#top)\n",
    "\n",
    "<a id='p3'></a>\n",
    "\n",
    "### Question 3\n",
    "\n",
    "\n",
    "Consider the discrete random variable $X$, with probability distribution given by $P(X=k) = 2ak^2-2ak$ for $k = 2, 3, 4$, where $a$ is a constant.\n"
   ]
  },
  {
   "cell_type": "markdown",
   "id": "1e941e70",
   "metadata": {
    "deletable": false,
    "editable": false
   },
   "source": [
    "<!-- BEGIN QUESTION -->\n",
    "\n",
    "Answer all of the parts below in the SAME cell below using LaTeX.  Show all of your steps.  \n",
    "\n",
    "**3a**).  Determine the value of $a$ such that this defines a valid probability distribution.  Use that value for the rest of the problem.  \n",
    "\n",
    "**3b**).  Calculate $P(X\\leq3)$.\n",
    "\n",
    "**3c**).  What is $E[X]$? (Show steps calculating this).\n",
    "\n",
    "**3d**).  What is the standard deviation of $X$? (Show all steps calculating this).\n",
    "\n",
    "Answer all of the parts above in SINGLE cell provided below using LaTeX."
   ]
  },
  {
   "cell_type": "markdown",
   "id": "2370be26",
   "metadata": {},
   "source": [
    "### Part A\n",
    "\n",
    "For this probability distribution to be valid, we constitute that $P(x = 2) + P(x = 3) + P(x = 4) = 1$, essentially all of the probabilities need to add up to 1 for all values of $k$. For starters, we can simplify the the probability distribution in a simpler form:\n",
    "\n",
    "$$\n",
    "P(X = k) = 2ak(k - 1).\n",
    "$$\n",
    "\n",
    "If we now plug in all the values for $k$ into this expression, sum them, and set them equal to 1 we then have\n",
    "\n",
    "$$\n",
    "P(X = 2) + P(X = 3) + P(X = 4) = 2a(2)(2 - 1) + 2a(3)(3 - 1) + 2a(4)(4 - 1) = 1.\n",
    "$$\n",
    "\n",
    "We then can solve this for $a$:\n",
    "\n",
    "\\begin{align}\n",
    "2a(2)(2 - 1) + 2a(3)(3 - 1) + 2a(4)(4 - 1) & = 1 & \\text{(Original Expression)} \\\\\n",
    "2a(2)(1) + 2a(3)(2) + 2a(4)(3) & = 1 & \\text{(Simplification)} \\\\\n",
    "2a(2) + 2a(6) + 2a(12) & = 1 & \\text{(Simplification)} \\\\\n",
    "4a + 12a + 24a & = 1 & \\text{(Simplification)} \\\\\n",
    "40a & = 1 & \\text{(Simplification)} \\\\\n",
    "a & = \\frac{1}{40} & \\text{(Simplification)}.\n",
    "\\end{align}\n",
    "\n",
    "This then means that for the probability distribution to be valid, we constitute that $a = \\frac{1}{40} = 0.025$.\n",
    "\n",
    "### Part B\n",
    "\n",
    "To calculate $P(X \\leq 3)$, we use\n",
    "\n",
    "$$\n",
    "P(X \\leq 3) = P(X = 2) + P(X = 3) = 2(0.025)(2)(2 - 1) + 2(0.025)(3)(3 - 1) = 0.1 + 0.3 = 0.4.\n",
    "$$\n",
    "\n",
    "So, this means $P(X \\leq 3) = 0.4$. Consequently, we can deduce that $P(X = 2) = 0.1$, $P(X = 3) = 0.3$, and $P(X = 4) = 0.6$.\n",
    "\n",
    "### Part C\n",
    "\n",
    "We can calculate the expectation value for this probability distribution with\n",
    "\n",
    "$$\n",
    "E(x) = \\sum_{i = 2}^{n} x_{i}p_{i}.\n",
    "$$\n",
    "\n",
    "This then means that that the expectation value for $x = k$ is \n",
    "\n",
    "$$\n",
    "E(x) = x_{2}p_{2} + x_{3}p_{3} + x_{4}p_{4} = 2(0.1) + 3(0.3) + 4(0.6) = 0.2 + 0.9 + 2.4 = 3.5.\n",
    "$$\n",
    "\n",
    "### Part D\n",
    "\n",
    "The formula for calculating the standard deviation is \n",
    "\n",
    "$$\n",
    "\\sigma = \\sqrt{\\nu^{2}}\n",
    "$$\n",
    "\n",
    "where $\\nu$ is defined as the variance. The variance is calculated with\n",
    "\n",
    "$$\n",
    "\\nu^{2} = \\sum_{i}(x_{i} - \\mu)^{2} \\cdot P(X = x_{i}).\n",
    "$$\n",
    "\n",
    "This then means that the standard deviation is\n",
    "\n",
    "\\begin{align}\n",
    "\\sigma & = \\sqrt{\\sum_{i}(x_{i} - \\mu)^{2} \\cdot P(X = x_{i})} & \\text{(Standard Deviation Formula)} \\\\\n",
    "& = \\sqrt{(2 - 3.5)^{2}(0.1) + (3 - 3.5)^{2}(0.3) + (4 - 3.5)^{2}(0.6)} & \\text{(Plugging In Values)} \\\\\n",
    "& = \\sqrt{0.45} & \\text{(Simplification)} \\\\\n",
    "& = 0.6708 & \\text{(Simplification)}.\n",
    "\\end{align}\n",
    "\n",
    "This means the standard deviation is then $\\sigma = 0.6708$."
   ]
  },
  {
   "cell_type": "markdown",
   "id": "fb5da795",
   "metadata": {
    "deletable": false,
    "editable": false
   },
   "source": [
    "<!-- END QUESTION -->\n",
    "\n",
    "To check your answers to 3c and 3d, enter them below.  Note that this autograder test is not worth any points, it's just for you to check your work above to make sure you're on the right track. "
   ]
  },
  {
   "cell_type": "code",
   "execution_count": 60,
   "id": "745b5d08",
   "metadata": {
    "tags": []
   },
   "outputs": [],
   "source": [
    "expected_value = 3.5\n",
    "standard_deviation= np.sqrt(0.45)"
   ]
  },
  {
   "cell_type": "code",
   "execution_count": 61,
   "id": "90e0b9b2",
   "metadata": {
    "deletable": false,
    "editable": false
   },
   "outputs": [
    {
     "data": {
      "text/html": [
       "<p><strong><pre style='display: inline;'>q3_check</pre></strong> passed! 🍀</p>"
      ],
      "text/plain": [
       "q3_check results: All test cases passed!"
      ]
     },
     "execution_count": 61,
     "metadata": {},
     "output_type": "execute_result"
    }
   ],
   "source": [
    "grader.check(\"q3_check\")"
   ]
  },
  {
   "cell_type": "markdown",
   "id": "05898d0d",
   "metadata": {
    "deletable": false,
    "editable": false
   },
   "source": [
    "<!-- BEGIN QUESTION -->\n",
    "\n",
    "### Question 3e"
   ]
  },
  {
   "cell_type": "markdown",
   "id": "8482ec5f",
   "metadata": {
    "deletable": false,
    "editable": false
   },
   "source": [
    "Plot a histogram of the discrete probability distribution for $X$.  \n",
    "\n",
    "Use the same plotting guidelines as shown in Problem 1 so we can interpret area in the histogram as representing probability: \n",
    " - Set the bin widths to be equal to 1 \n",
    " - Add white lines between each bar \n",
    "\n",
    "**Be sure to include a title on your plot.**\n"
   ]
  },
  {
   "cell_type": "code",
   "execution_count": 73,
   "id": "fca475bd",
   "metadata": {
    "tags": []
   },
   "outputs": [
    {
     "data": {
      "image/png": "[encoded data removed]",
      "text/plain": [
       "<Figure size 640x480 with 1 Axes>"
      ]
     },
     "metadata": {},
     "output_type": "display_data"
    }
   ],
   "source": [
    "k = np.arange(2,5,1)\n",
    "p = 2 * (0.025) * (k) * (k - 1)\n",
    "\n",
    "fig, ax = plt.subplots()\n",
    "\n",
    "ax.bar(k, p, width=1, ec='white');\n",
    "ax.set_axisbelow(True)\n",
    "ax.grid(alpha=0.25)\n",
    "plt.xlim(1,5)\n",
    "plt.xlabel(f\"Values of K\")\n",
    "plt.ylabel(f\"Probability\")\n",
    "plt.title(f\"Discrete Random Probability Of $P(X = k) = 2(a)(k)(k - 1)$, $a = 0.025$\");\n",
    "# Your code for the histogram above this line\n"
   ]
  },
  {
   "cell_type": "markdown",
   "id": "0a8d164e",
   "metadata": {
    "deletable": false,
    "editable": false
   },
   "source": [
    "<!-- END QUESTION -->\n",
    "\n",
    "***\n",
    "\n",
    "[Back to top](#top)\n",
    "\n",
    "<a id='p4'></a>\n",
    "\n",
    "\n",
    "### Question 4\n",
    "You are waiting in line at the grocery store. It is taking _forever_!  There are only two lines open; one is being tended by a cashier named [John Henry](https://en.wikipedia.org/wiki/John_Henry_(folklore)), and the other is tended by a [self check-out machine](https://theconversation.com/the-economics-of-self-service-checkouts-78593). Like all human beings when they arrive at the front of the store to check-out and encounter lines everywhere, you first experience a moment of intense panic. _Which line will be the fastest?_ you wonder, as people shuffle around you.\n",
    "\n",
    "You decide you need to model the arrival of customers at the front of each of the lines.  From your Intro to Data Science class you remember that the distribution of independent random arrivals is often modeled using a Poisson distribution.  You observe the following:\n",
    "* John's line checks-out an average of 4 customers per ten minutes,\n",
    "* the self check-out machine checks-out an average of 5 customers per ten minutes **if** the machine is working properly, \n",
    "* the self check-out machine checks-out an average of 1 customer per ten minutes if the machine is freezing up, and\n",
    "* in any given moment, the self check-out machine has a probability of 0.1 of freezing up.\n",
    "\n",
    "Answer the following questions about this scenario. "
   ]
  },
  {
   "cell_type": "markdown",
   "id": "b9b0b816",
   "metadata": {
    "deletable": false,
    "editable": false
   },
   "source": [
    "<!-- BEGIN QUESTION -->\n",
    "\n",
    "Answer all of the parts below in the SAME cell below using LaTeX.  Show all of your steps.  \n",
    "\n",
    "**4a**).  What is the probability that exactly 6 customers pass through John's line in the next 10 minutes? \n",
    "\n",
    "**4b**).  What is the probability that exactly 6 customers pass through the self check-out in the next 10 minutes, assuming that it is working?  \n",
    "\n",
    "**4c**).  What is the probability that exactly 6 customers pass through the self check-out in the next 10 minutes, assuming that it is frozen? \n",
    "\n",
    "**4d**).  Use your results from 4b and 4c and the Law of Total Probability to calculate the probability that the self check-out tends exactly 6 customers in the next 10 minutes.\n",
    "Show all steps using LaTeX.\n",
    "\n",
    "Answer all of the parts above in SINGLE cell provided below using LaTeX."
   ]
  },
  {
   "cell_type": "markdown",
   "id": "fe062340",
   "metadata": {},
   "source": [
    "_Type your answer here, replacing this text._"
   ]
  },
  {
   "cell_type": "markdown",
   "id": "10ead6ab",
   "metadata": {
    "deletable": false,
    "editable": false
   },
   "source": [
    "<!-- END QUESTION -->\n",
    "\n",
    "To check your answer to 4d, enter it below.  Note that this autograder test is not worth any points, it's just for you to check your work above to make sure you're on the right track. "
   ]
  },
  {
   "cell_type": "code",
   "execution_count": 63,
   "id": "3861bae6",
   "metadata": {
    "tags": []
   },
   "outputs": [
    {
     "data": {
      "text/plain": [
       "Ellipsis"
      ]
     },
     "execution_count": 63,
     "metadata": {},
     "output_type": "execute_result"
    }
   ],
   "source": [
    "q4d_check = ...\n",
    "\n",
    "q4d_check"
   ]
  },
  {
   "cell_type": "code",
   "execution_count": 64,
   "id": "a0b3d2d0",
   "metadata": {
    "deletable": false,
    "editable": false
   },
   "outputs": [
    {
     "data": {
      "text/html": [
       "<p><strong style='color: red;'><pre style='display: inline;'>q4d_check</pre> results:</strong></p><p><strong><pre style='display: inline;'>q4d_check - 1</pre> result:</strong></p><pre>    ❌ Test case failed\n",
       "    Trying:\n",
       "        assert np.isclose(q4d_check, 0.1316516216927174,atol = 1e-4)\n",
       "    Expecting nothing\n",
       "    **********************************************************************\n",
       "    Line 1, in q4d_check 0\n",
       "    Failed example:\n",
       "        assert np.isclose(q4d_check, 0.1316516216927174,atol = 1e-4)\n",
       "    Exception raised:\n",
       "        Traceback (most recent call last):\n",
       "          File \"/opt/homebrew/Cellar/python@3.11/3.11.7_1/Frameworks/Python.framework/Versions/3.11/lib/python3.11/doctest.py\", line 1353, in __run\n",
       "            exec(compile(example.source, filename, \"single\",\n",
       "          File \"<doctest q4d_check 0[0]>\", line 1, in <module>\n",
       "            assert np.isclose(q4d_check, 0.1316516216927174,atol = 1e-4)\n",
       "                   ^^^^^^^^^^^^^^^^^^^^^^^^^^^^^^^^^^^^^^^^^^^^^^^^^^^^^\n",
       "          File \"/opt/homebrew/lib/python3.11/site-packages/numpy/core/numeric.py\", line 2348, in isclose\n",
       "            xfin = isfinite(x)\n",
       "                   ^^^^^^^^^^^\n",
       "        TypeError: ufunc 'isfinite' not supported for the input types, and the inputs could not be safely coerced to any supported types according to the casting rule ''safe''\n",
       "</pre>"
      ],
      "text/plain": [
       "q4d_check results:\n",
       "    q4d_check - 1 result:\n",
       "        ❌ Test case failed\n",
       "        Trying:\n",
       "            assert np.isclose(q4d_check, 0.1316516216927174,atol = 1e-4)\n",
       "        Expecting nothing\n",
       "        **********************************************************************\n",
       "        Line 1, in q4d_check 0\n",
       "        Failed example:\n",
       "            assert np.isclose(q4d_check, 0.1316516216927174,atol = 1e-4)\n",
       "        Exception raised:\n",
       "            Traceback (most recent call last):\n",
       "              File \"/opt/homebrew/Cellar/python@3.11/3.11.7_1/Frameworks/Python.framework/Versions/3.11/lib/python3.11/doctest.py\", line 1353, in __run\n",
       "                exec(compile(example.source, filename, \"single\",\n",
       "              File \"<doctest q4d_check 0[0]>\", line 1, in <module>\n",
       "                assert np.isclose(q4d_check, 0.1316516216927174,atol = 1e-4)\n",
       "                       ^^^^^^^^^^^^^^^^^^^^^^^^^^^^^^^^^^^^^^^^^^^^^^^^^^^^^\n",
       "              File \"/opt/homebrew/lib/python3.11/site-packages/numpy/core/numeric.py\", line 2348, in isclose\n",
       "                xfin = isfinite(x)\n",
       "                       ^^^^^^^^^^^\n",
       "            TypeError: ufunc 'isfinite' not supported for the input types, and the inputs could not be safely coerced to any supported types according to the casting rule ''safe''"
      ]
     },
     "execution_count": 64,
     "metadata": {},
     "output_type": "execute_result"
    }
   ],
   "source": [
    "grader.check(\"q4d_check\")"
   ]
  },
  {
   "cell_type": "markdown",
   "id": "16806c5c",
   "metadata": {
    "deletable": false,
    "editable": false
   },
   "source": [
    "<!-- BEGIN QUESTION -->\n",
    "\n",
    "### Question 4e) ###\n",
    "S'pose John is working a 5-hour shift from 4-9 PM after school. He gets no breaks, because the year is 1870 and worker's rights is not yet a thing.  \n",
    "\n",
    "Plot a histogram of the probability distribution of the number of customers he serves in his 5 hour shift.   \n",
    "For the **domain of the histogram, include $x$ values between $75$ and $160$ in your plot.**\n",
    "\n",
    "**Hint:** Python has a built-in function to calculate the Poisson distribution for different values of $\\mu$.  See the documentation for `poisson.pmf` in `scipy.stats`  (https://docs.scipy.org/doc/scipy/reference/generated/scipy.stats.poisson.html)\n",
    "\n",
    "**Hint:**  Since we are changing the time interval over which we are counting customers, you will need to update the parameter $\\mu$ in the Poisson distribution to be the average number of customers John can serve in a $5$-hour shift. You can assume that his rate of 4 customers per 10 minutes scales up consistently during his 5 hour shift.  \n",
    "\n"
   ]
  },
  {
   "cell_type": "code",
   "execution_count": 65,
   "id": "e471e80c-b4e1-42ed-b39a-3a50e55ff397",
   "metadata": {
    "deletable": false,
    "editable": false
   },
   "outputs": [],
   "source": [
    "from scipy.stats import poisson"
   ]
  },
  {
   "cell_type": "code",
   "execution_count": 66,
   "id": "4c31fba9",
   "metadata": {
    "tags": []
   },
   "outputs": [
    {
     "data": {
      "text/plain": [
       "Ellipsis"
      ]
     },
     "execution_count": 66,
     "metadata": {},
     "output_type": "execute_result"
    }
   ],
   "source": [
    "...\n",
    "\n",
    "# your code above this line"
   ]
  },
  {
   "cell_type": "markdown",
   "id": "34406772",
   "metadata": {
    "deletable": false,
    "editable": false
   },
   "source": [
    "<!-- END QUESTION -->\n",
    "\n",
    "### Question 4f) ###\n",
    "\n",
    "Calculate  the probability that John serves 100 or more customers during his **5-hour** shift.  Note for this problem do the calculation of the actual probability, not a simulation.   Assign your output to the variable `prob_100_or_more`.\n",
    "Assume we can safely scale our data assumptions up to a 5-hour interval.\n",
    "\n"
   ]
  },
  {
   "cell_type": "code",
   "execution_count": 67,
   "id": "80613691",
   "metadata": {
    "tags": []
   },
   "outputs": [
    {
     "ename": "NameError",
     "evalue": "name 'prob_100_or_more' is not defined",
     "output_type": "error",
     "traceback": [
      "\u001b[0;31m---------------------------------------------------------------------------\u001b[0m",
      "\u001b[0;31mNameError\u001b[0m                                 Traceback (most recent call last)",
      "Cell \u001b[0;32mIn[67], line 3\u001b[0m\n\u001b[1;32m      1\u001b[0m \u001b[38;5;241m.\u001b[39m\u001b[38;5;241m.\u001b[39m\u001b[38;5;241m.\u001b[39m\n\u001b[1;32m      2\u001b[0m \u001b[38;5;66;03m# your code above this line\u001b[39;00m\n\u001b[0;32m----> 3\u001b[0m \u001b[43mprob_100_or_more\u001b[49m\n",
      "\u001b[0;31mNameError\u001b[0m: name 'prob_100_or_more' is not defined"
     ]
    }
   ],
   "source": [
    "...\n",
    "# your code above this line\n",
    "prob_100_or_more"
   ]
  },
  {
   "cell_type": "code",
   "execution_count": null,
   "id": "afff52b5",
   "metadata": {
    "deletable": false,
    "editable": false
   },
   "outputs": [],
   "source": [
    "grader.check(\"q4f\")"
   ]
  },
  {
   "cell_type": "markdown",
   "id": "fddc9d6b",
   "metadata": {
    "deletable": false,
    "editable": false
   },
   "source": [
    "<!-- BEGIN QUESTION -->\n",
    "\n",
    "### Question 4g) \n",
    "\n",
    "Time to simulate!\n",
    "\n",
    "Recall from lecture that if the number of random events follows a Poisson distribution, the lapse of time between these events follows an Exponential distribution.   For example, if the number of occurrences per 10 minute interval is \n",
    "distributed $X$~ $Pois(4)$, \n",
    "then the time (in units of 10 minutes) between arrivals is $Y$ ~ $Exp(4)$.  \n",
    " \n",
    "We're going to simulate the number of customers served using this knowledge.  \n",
    "\n",
    "i).  Write a function `checkout_count` to simulate the number of customers served by the **self check-out machine** in a **5-hour** shift. \n",
    "\n",
    "Your function should take as input the time length `time_len`, for calculating the arrivals, the working and broken customer arrival rate parameters (based on the time length given), and the probability, `p` that the machine is working properly. \n",
    "\n",
    "\n",
    "Your function should simulate customer arrival times at the front of the line by sampling between-customer times from $Exp(\\lambda)$ via Numpy's [random.exponential](https://docs.scipy.org/doc/numpy-1.13.0/reference/generated/numpy.random.exponential.html) function, where the argument $\\lambda$ will depend on the state of the machine (working or broken).   Read the documentation carefully for the format of the input for the exponential function in Numpy. \n",
    "\n",
    "Your simulation should model the arrival of each new customer, and sample whether or not the machine is working properly for each new customer. \n",
    "\n",
    "\n",
    "Your function should **return the number of customer arrivals in a 5-hour shift**. \n",
    "\n",
    "**Make sure all code is visible in your PDF, or you won't receive points for this problem**\n",
    "\n",
    "\n",
    "ii).  Use 10,000 simulations of this function to estimate the probability of the self check-out machine serves 100 or more customers in a 5-hour shift, and report your result.\n",
    "\n",
    "iii). Finally, use 10,000 simulations of **this same function** to verify your answer to **Part 4e**.\n",
    "\n"
   ]
  },
  {
   "cell_type": "code",
   "execution_count": null,
   "id": "eb5613d3",
   "metadata": {
    "tags": []
   },
   "outputs": [],
   "source": [
    "def checkout_count(time_len, rate_work, rate_broken, p):\n",
    "    '''\n",
    "    time_len    = time interval (minutes)\n",
    "    rate_work   = rate when machine is working (customers/time unit)\n",
    "    rate_broken = rate when machine is broken (customers/time unit)\n",
    "    p           = probability machine is working\n",
    "    '''\n",
    "    ...\n",
    "    # your code for part i above here\n",
    "    "
   ]
  },
  {
   "cell_type": "code",
   "execution_count": null,
   "id": "ef0b3c11",
   "metadata": {
    "tags": []
   },
   "outputs": [],
   "source": [
    "...\n",
    "# Your code for part ii above this line\n",
    "# Output should be approximately 0.70 if code is correct."
   ]
  },
  {
   "cell_type": "code",
   "execution_count": null,
   "id": "fe69ba59",
   "metadata": {
    "tags": []
   },
   "outputs": [],
   "source": [
    "...\n",
    "# Your code for part iii above this line\n",
    "# Output should match your theoretical answer to Part 4f"
   ]
  },
  {
   "cell_type": "markdown",
   "id": "8a8366d8",
   "metadata": {
    "deletable": false,
    "editable": false
   },
   "source": [
    "<!-- END QUESTION -->\n",
    "\n",
    "<!-- BEGIN QUESTION -->\n",
    "\n",
    "**QUESTION 4h:** Comment on the results you found above in **Parts F and G** comparing the probabilities that John and the self check-out machine will serve 100 or more customers in a 5-hour block. Which seems like a better investment for the grocery store?  Justify your answer."
   ]
  },
  {
   "cell_type": "markdown",
   "id": "757b8f1e",
   "metadata": {},
   "source": [
    "_Type your answer here, replacing this text._"
   ]
  },
  {
   "cell_type": "markdown",
   "id": "169d7663",
   "metadata": {
    "deletable": false,
    "editable": false
   },
   "source": [
    "<!-- END QUESTION -->\n",
    "\n",
    "<br/><br/>\n",
    "<hr style=\"border: 5px solid #003262;\" />\n",
    "<hr style=\"border: 1px solid #fdb515;\" />\n",
    "\n",
    "## Congratulations! You have finished Homework 6!"
   ]
  },
  {
   "cell_type": "markdown",
   "id": "cc31acf9",
   "metadata": {},
   "source": [
    "If you discussed this assignment with any other students in the class (in a manner that is acceptable as described by the Collaboration policy above) please **include their names** here:\n",
    "\n",
    "**Collaborators**: *list collaborators here*"
   ]
  },
  {
   "cell_type": "markdown",
   "id": "46739932",
   "metadata": {},
   "source": [
    "### Submission Instructions\n",
    "\n",
    "Before proceeding any further, **save this notebook.**\n",
    "\n",
    "After running the `grader.export()` cell provided below, **2 files will be created**: a zip file and pdf file.  You can download them using the links provided below OR by finding them in the same folder where this juptyer notebook resides in your JuptyerHub.\n",
    "\n",
    "To receive credit on this assignment, **you must submit BOTH of these files\n",
    "to their respective Gradescope portals:** \n",
    "\n",
    "* **Homework 6 Autograded**: Submit the zip file that is output by the `grader.export()` cell below to the HW6 Autograded assignment in Gradescope.\n",
    "\n",
    "* **Homework 6 Manually Graded**: Submit your hw06.PDF to the HW6 Manually Graded assignment in Gradescope.  **YOU MUST SELECT THE PAGES CORRESPONDING TO EACH QUESTION WHEN YOU UPLOAD TO GRADESCOPE.  IF NOT, YOU WILL LOSE POINTS**   Also, **check** that all of your plots **and** all lines of your code are showing up in your PDF before submitting.  If not, you will not receive credit for your plots/code.  \n",
    "\n",
    "\n",
    "**You are responsible for ensuring your submission follows our requirements. We will not be granting regrade requests nor extensions to submissions that don't follow instructions.** If you encounter any difficulties with submission, please don't hesitate to reach out to staff prior to the deadline."
   ]
  },
  {
   "cell_type": "code",
   "execution_count": null,
   "id": "b6dad5e0-4df0-4b83-b628-b312b256e8f1",
   "metadata": {},
   "outputs": [],
   "source": []
  },
  {
   "cell_type": "markdown",
   "id": "b5dffd9e",
   "metadata": {
    "deletable": false,
    "editable": false
   },
   "source": [
    "## Submission\n",
    "\n",
    "Make sure you have run all cells in your notebook in order before running the cell below, so that all images/graphs appear in the output. The cell below will generate a zip file for you to submit. **Please save before exporting!**\n",
    "\n",
    "AFTER running the cell below, click on <a href='hw06.pdf' download>this link to download the PDF </a> to upload to Gradescope.  There will be a separate link that appears after running the cell below with a link to download the zip file to upload to Gradescope."
   ]
  },
  {
   "cell_type": "code",
   "execution_count": null,
   "id": "49283c56",
   "metadata": {
    "deletable": false,
    "editable": false
   },
   "outputs": [],
   "source": [
    "# Save your notebook first, then run this cell to export your submission.\n",
    "grader.export(run_tests=True)"
   ]
  },
  {
   "cell_type": "markdown",
   "id": "e6e48b85",
   "metadata": {},
   "source": [
    " "
   ]
  }
 ],
 "metadata": {
  "kernelspec": {
   "display_name": "Python 3 (ipykernel)",
   "language": "python",
   "name": "python3"
  },
  "language_info": {
   "codemirror_mode": {
    "name": "ipython",
    "version": 3
   },
   "file_extension": ".py",
   "mimetype": "text/x-python",
   "name": "python",
   "nbconvert_exporter": "python",
   "pygments_lexer": "ipython3",
   "version": "3.11.7"
  },
  "otter": {
   "OK_FORMAT": true,
   "tests": {
    "q1a": {
     "name": "q1a",
     "points": 1,
     "suites": [
      {
       "cases": [
        {
         "code": ">>> # TEST\n>>> assert prob_1a >= 0 and prob_1a <= 1\n",
         "hidden": false,
         "locked": false
        },
        {
         "code": ">>> # TEST\n>>> assert np.isclose(prob_1a, 0.0369, atol = 1e-4)\n",
         "hidden": false,
         "locked": false
        }
       ],
       "scored": true,
       "setup": "",
       "teardown": "",
       "type": "doctest"
      }
     ]
    },
    "q1b": {
     "name": "q1b",
     "points": 1,
     "suites": [
      {
       "cases": [
        {
         "code": ">>> # TEST\n>>> assert np.all(all_probs >= 0) and np.all(all_probs <= 1)\n",
         "hidden": false,
         "locked": false
        },
        {
         "code": ">>> # TEST\n>>> k = np.arange(101)\n>>> test_1b = special.comb(100, k)*(0.26**k)*(0.74**(100-k))\n>>> assert np.all(np.isclose(test_1b, all_probs, atol = 1e-5))\n",
         "hidden": false,
         "locked": false
        }
       ],
       "scored": true,
       "setup": "",
       "teardown": "",
       "type": "doctest"
      }
     ]
    },
    "q1c": {
     "name": "q1c",
     "points": 1,
     "suites": [
      {
       "cases": [
        {
         "code": ">>> # TEST\n>>> assert prob_1c >= 0 and prob_1c <= 1\n",
         "hidden": false,
         "locked": false
        },
        {
         "code": ">>> # TEST\n>>> assert np.isclose(prob_1c, 0.9838, atol = 1e-4)\n",
         "hidden": false,
         "locked": false
        }
       ],
       "scored": true,
       "setup": "",
       "teardown": "",
       "type": "doctest"
      }
     ]
    },
    "q1d": {
     "name": "q1d",
     "points": 1,
     "suites": [
      {
       "cases": [
        {
         "code": ">>> # TEST\n>>> assert prob_at_most(3, 0.4, 1) >= 0\n",
         "hidden": false,
         "locked": false
        },
        {
         "code": ">>> # TEST\n>>> assert prob_at_most(5, 0.6, 3) <= 1\n",
         "hidden": false,
         "locked": false
        },
        {
         "code": ">>> # TEST\n>>> assert prob_at_most(2, 3, 4) == 0\n",
         "hidden": false,
         "locked": false
        },
        {
         "code": ">>> # TEST\n>>> assert np.isclose(prob_at_most(10, 0.7, 4), 0.0473, atol = 1e-4)\n",
         "hidden": false,
         "locked": false
        },
        {
         "code": ">>> # TEST\n>>> assert np.isclose(prob_at_most(10, 0.7, 4), 0.0473, atol = 1e-4)\n",
         "hidden": false,
         "locked": false
        },
        {
         "code": ">>> # TEST\n>>> assert np.isclose(prob_at_most(5, 1, 1), 0, atol = 1e-4)\n",
         "hidden": false,
         "locked": false
        },
        {
         "code": ">>> # TEST\n>>> assert np.isclose(prob_at_most(8, 0.7, 3), 0.05797, atol = 1e-4)\n",
         "hidden": false,
         "locked": false
        }
       ],
       "scored": true,
       "setup": "",
       "teardown": "",
       "type": "doctest"
      }
     ]
    },
    "q1e": {
     "name": "q1e",
     "points": 1,
     "suites": [
      {
       "cases": [
        {
         "code": ">>> # TEST\n>>> p_majority >= 0 and p_majority <= 1\nTrue",
         "hidden": false,
         "locked": false
        },
        {
         "code": ">>> # TEST\n>>> np.isclose(p_majority, 0.06807, atol = 1e-4)\nTrue",
         "hidden": false,
         "locked": false
        }
       ],
       "scored": true,
       "setup": "",
       "teardown": "",
       "type": "doctest"
      }
     ]
    },
    "q1f": {
     "name": "q1f",
     "points": 2,
     "suites": [
      {
       "cases": [
        {
         "code": ">>> # TEST\n>>> assert prob_1f >= 0 and prob_1f <= 1\n",
         "hidden": false,
         "locked": false
        },
        {
         "code": ">>> # TEST\n>>> assert np.isclose(prob_1f, 0.2355, atol = 1e-4)\n",
         "hidden": false,
         "locked": false
        }
       ],
       "scored": true,
       "setup": "",
       "teardown": "",
       "type": "doctest"
      }
     ]
    },
    "q3_check": {
     "name": "q3_check",
     "points": 0,
     "suites": [
      {
       "cases": [
        {
         "code": ">>> # TEST\n>>> assert np.isclose(expected_value, 3.5)\n",
         "hidden": false,
         "locked": false
        },
        {
         "code": ">>> # TEST\n>>> assert np.isclose(standard_deviation, np.sqrt(9/20))\n",
         "hidden": false,
         "locked": false
        }
       ],
       "scored": true,
       "setup": "",
       "teardown": "",
       "type": "doctest"
      }
     ]
    },
    "q4d_check": {
     "name": "q4d_check",
     "points": 0,
     "suites": [
      {
       "cases": [
        {
         "code": ">>> assert np.isclose(q4d_check, 0.1316516216927174,atol = 1e-4)\n",
         "hidden": false,
         "locked": false
        }
       ],
       "scored": true,
       "setup": "",
       "teardown": "",
       "type": "doctest"
      }
     ]
    },
    "q4f": {
     "name": "q4f",
     "points": 3,
     "suites": [
      {
       "cases": [
        {
         "code": ">>> # TEST\n>>> \n>>> assert np.isclose(prob_100_or_more, 0.9721362601094793)\n>>> \n",
         "hidden": false,
         "locked": false
        }
       ],
       "scored": true,
       "setup": "",
       "teardown": "",
       "type": "doctest"
      }
     ]
    }
   }
  }
 },
 "nbformat": 4,
 "nbformat_minor": 5
}
