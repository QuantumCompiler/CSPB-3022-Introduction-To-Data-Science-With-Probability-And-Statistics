{
 "cells": [
  {
   "cell_type": "code",
   "execution_count": 1,
   "id": "27131e22",
   "metadata": {
    "deletable": false,
    "editable": false
   },
   "outputs": [],
   "source": [
    "# Initialize Otter\n",
    "import otter\n",
    "grader = otter.Notebook(\"Assignment 5 - Probability - Independence, Simulation, Random Variables.ipynb\")"
   ]
  },
  {
   "cell_type": "markdown",
   "id": "0a41ef94",
   "metadata": {},
   "source": [
    "# Homework 5\n",
    "\n",
    "## Due on Gradescope\n",
    "\n",
    "\n",
    "## Collaboration Policy\n",
    "\n",
    "Data science is a collaborative activity.  However a key step in learning and retention is **creating solutions on your own.**  \n",
    "\n",
    "\n",
    "Please see the Syllabus for the Collaboration Policy.\n",
    "\n",
    "On the other hand, the following are some **examples of things which would NOT usually be\n",
    "considered to be cheating**:\n",
    " - Working on a HW problem on your own first and then discussing with a classmate a particular part in the problem solution where you are stuck.  After clarifying any questions you should then continue to write your solution independently.\n",
    " - Asking someone (or searching online) how a particular construct in the language works.\n",
    " - Asking someone (or searching online) how to formulate a particular construct in the language.\n",
    " - Asking someone for help in finding an error in your program.  \n",
    " - Asking someone why a particular construct does not work as you expected in a given program.\n",
    "   \n",
    "\n",
    "To test whether you are truly doing your own work and retaining what you've learned you should be able to easily reproduce from scratch and explain a HW solution that was your own when asked in office hours by a TA/Instructor or on a quiz/exam.   \n",
    "\n",
    "\n",
    "If you have difficulty in formulating the general solution to a problem on your own, or\n",
    "you have difficulty in translating that general solution into a program, it is advisable to see\n",
    "your instructor or teaching assistant rather than another student as this situation can easily\n",
    "lead to a, possibly inadvertent, cheating situation.\n",
    "\n",
    "We are here to help!  Visit HW Hours and/or post questions on Piazza!\n"
   ]
  },
  {
   "cell_type": "markdown",
   "id": "e4d8a09d",
   "metadata": {},
   "source": [
    "If while completing this assignment you reference any websites other than those linked in this assignment or provided on Canvas please list those references here:\n",
    "\n",
    "**External references**:  *list any websites you referenced"
   ]
  },
  {
   "cell_type": "markdown",
   "id": "24b45ac0",
   "metadata": {},
   "source": [
    "#### Grading\n",
    "Grading is broken down into autograded answers and manually graded answers. \n",
    "\n",
    "For autograded answers, the results of your code are compared to provided and/or hidden tests.\n",
    "\n",
    "For manually graded answers you must show and explain all steps.  Graders will evaluate how well you answered the question and/or fulfilled the requirements of the question.\n",
    "\n",
    "\n",
    "### Score breakdown\n",
    "\n",
    "\n",
    "\n",
    "Question | Points | Grading Type\n",
    "--- | --- | ---\n",
    "Question 1 | 4 | autograded\n",
    "Question 2 | 4 | manual\n",
    "Question 3 | 6 | manual\n",
    "Question 4a | 3 | manual\n",
    "Question 4bi-iii | 5 | autograded\n",
    "Question 4biii | 4 | manual\n",
    "Question 5 | 8 | manual\n",
    "Question 6 | 10 | manual\n",
    "Question 7 | 6 | manual\n",
    "|Total | 50"
   ]
  },
  {
   "cell_type": "markdown",
   "id": "c0eec3bc",
   "metadata": {},
   "source": [
    "<a id='top'></a>\n",
    "---\n",
    "**Shortcuts:**  [Problem 2](#p2) | [Problem 3](#p3) | [Problem 4](#p4) | [Problem 5](#p5) |  [Problem 6](#p6) | [Problem 7](#p7) | \n",
    "---\n",
    "<hr style=\"border: 5px solid #003262;\" />\n",
    "<hr style=\"border: 1px solid #fdb515;\" />\n",
    "\n"
   ]
  },
  {
   "cell_type": "markdown",
   "id": "20206110",
   "metadata": {},
   "source": [
    "In this homework you'll investigate probability. You'll also use probability simulations to estimate probabilities, gain intuition about random processes and to check your pencil and paper work.   \n"
   ]
  },
  {
   "cell_type": "code",
   "execution_count": 2,
   "id": "931c6bb1",
   "metadata": {
    "scrolled": true
   },
   "outputs": [],
   "source": [
    "import pandas as pd\n",
    "import numpy as np\n",
    "import matplotlib.pylab as plt\n",
    "%matplotlib inline"
   ]
  },
  {
   "cell_type": "markdown",
   "id": "638ea3bb",
   "metadata": {},
   "source": [
    "### Problem 1: Roulette!\n",
    "\n",
    "\n",
    "A Nevada roulette wheel has 38 pockets and a small ball that rests on the wheel. When the wheel is spun, the ball comes to rest in one of the 38 pockets. That pocket is declared the winner. \n",
    "\n",
    "The pockets are labeled 0, 00, 1, 2, 3, 4, ... , 36. Pockets 0 and 00 are green, and the other pockets are alternately red and black. Below is an example of a roulette wheel!"
   ]
  },
  {
   "cell_type": "markdown",
   "id": "141c584c",
   "metadata": {},
   "source": [
    "<img src=\"img/roulette_wheel.jpeg\" width=\"330px\">"
   ]
  },
  {
   "cell_type": "markdown",
   "id": "ffd92b12",
   "metadata": {},
   "source": [
    "\n",
    "\n",
    "\n"
   ]
  },
  {
   "cell_type": "markdown",
   "id": "a2774291",
   "metadata": {},
   "source": [
    "\n",
    "On each spin of a roulette wheel, all 38 pockets are equally likely to be the winner regardless of the results of other spins. Among the 38 pockets, 18 are red, 18 black, and 2 green. "
   ]
  },
  {
   "cell_type": "markdown",
   "id": "ccb712bb",
   "metadata": {
    "deletable": false,
    "editable": false
   },
   "source": [
    "**In each part below, write code that evaluates to the chance of the event described.**\n",
    "\n",
    "**Part 1A (1 pt).**  What is the probability the winning pocket is black on all of the first three spins?\n"
   ]
  },
  {
   "cell_type": "code",
   "execution_count": 3,
   "id": "21341f68",
   "metadata": {
    "tags": []
   },
   "outputs": [],
   "source": [
    "first_three_black = np.power((18 / 38), 3)"
   ]
  },
  {
   "cell_type": "code",
   "execution_count": 4,
   "id": "6d3ba7f9",
   "metadata": {
    "deletable": false,
    "editable": false
   },
   "outputs": [
    {
     "data": {
      "text/html": [
       "<p><strong><pre style='display: inline;'>q1a</pre></strong> passed! ✨</p>"
      ],
      "text/plain": [
       "q1a results: All test cases passed!"
      ]
     },
     "execution_count": 4,
     "metadata": {},
     "output_type": "execute_result"
    }
   ],
   "source": [
    "grader.check(\"q1a\")"
   ]
  },
  {
   "cell_type": "markdown",
   "id": "7c7ee8be",
   "metadata": {
    "deletable": false,
    "editable": false
   },
   "source": [
    "**Part 1B (1 pt)**  What is the probability the color green never wins in the first 10 spins?"
   ]
  },
  {
   "cell_type": "code",
   "execution_count": 5,
   "id": "4fdbbb20",
   "metadata": {
    "tags": []
   },
   "outputs": [],
   "source": [
    "no_green = np.power((36 / 38), 10)"
   ]
  },
  {
   "cell_type": "code",
   "execution_count": 6,
   "id": "83b77c3c",
   "metadata": {
    "deletable": false,
    "editable": false
   },
   "outputs": [
    {
     "data": {
      "text/html": [
       "<p><strong><pre style='display: inline;'>q1b</pre></strong> passed! 🍀</p>"
      ],
      "text/plain": [
       "q1b results: All test cases passed!"
      ]
     },
     "execution_count": 6,
     "metadata": {},
     "output_type": "execute_result"
    }
   ],
   "source": [
    "grader.check(\"q1b\")"
   ]
  },
  {
   "cell_type": "markdown",
   "id": "1f4a6e57",
   "metadata": {
    "deletable": false,
    "editable": false
   },
   "source": [
    "**Part 1C (1 pt)** What is the probability the color green wins at least once on the first 10 spins?\n"
   ]
  },
  {
   "cell_type": "code",
   "execution_count": 7,
   "id": "de76de56",
   "metadata": {
    "tags": []
   },
   "outputs": [],
   "source": [
    "at_least_one_green = 1 - np.power((36 / 38), 10)"
   ]
  },
  {
   "cell_type": "code",
   "execution_count": 8,
   "id": "bd64dc18",
   "metadata": {
    "deletable": false,
    "editable": false
   },
   "outputs": [
    {
     "data": {
      "text/html": [
       "<p><strong><pre style='display: inline;'>q1c</pre></strong> passed! 💯</p>"
      ],
      "text/plain": [
       "q1c results: All test cases passed!"
      ]
     },
     "execution_count": 8,
     "metadata": {},
     "output_type": "execute_result"
    }
   ],
   "source": [
    "grader.check(\"q1c\")"
   ]
  },
  {
   "cell_type": "markdown",
   "id": "d4001160",
   "metadata": {
    "deletable": false,
    "editable": false
   },
   "source": [
    "**Part 1D (1 pts).** What is the probability two of the three colors never win in the first 10 spins?\n",
    "\n"
   ]
  },
  {
   "cell_type": "code",
   "execution_count": 9,
   "id": "2932ea73",
   "metadata": {
    "tags": []
   },
   "outputs": [],
   "source": [
    "lone_winners = np.power((18 / 38), 10) + np.power((18 / 38), 10) + np.power((2 / 38), 10)"
   ]
  },
  {
   "cell_type": "code",
   "execution_count": 10,
   "id": "40ae9274",
   "metadata": {
    "deletable": false,
    "editable": false
   },
   "outputs": [
    {
     "data": {
      "text/html": [
       "<p><strong><pre style='display: inline;'>q14</pre></strong> passed! 🌈</p>"
      ],
      "text/plain": [
       "q14 results: All test cases passed!"
      ]
     },
     "execution_count": 10,
     "metadata": {},
     "output_type": "execute_result"
    }
   ],
   "source": [
    "grader.check(\"q14\")"
   ]
  },
  {
   "cell_type": "markdown",
   "id": "cdeb51fe",
   "metadata": {
    "deletable": false,
    "editable": false
   },
   "source": [
    "<!-- BEGIN QUESTION -->\n",
    "\n",
    "***\n",
    "\n",
    "[Back to top](#top)\n",
    "\n",
    "<a id='p2'></a>\n",
    "\n",
    "### Problem 2\n",
    "\n",
    "Let $A$ and $B$ be events in a sample space $\\Omega$.  \n",
    "\n",
    "Suppose that the probability that $A$ occurs is $0.2$, the probability that $B$ occurs is $0.6$, and the probability that $\\textbf{neither}$ $A$ $\\textbf{nor}$ $B$ occur is $0.3$.  \n",
    "\n",
    "**2a) (2 pts)**  What is $P(A, B)$?\n",
    "\n",
    "**2b) (2 pts)**  What is $P(B\\mid A')$?\n",
    "\n",
    "\n",
    "Write up your full solution to both questions in the SAME box below using LaTeX (not code).  Show all steps fully justifying your answers.\n"
   ]
  },
  {
   "cell_type": "markdown",
   "id": "a9ca3a81",
   "metadata": {},
   "source": [
    "### 2a Solution\n",
    "\n",
    "The formula to calculate $P(A,B)$, otherwise known as $P(A \\cap B)$ is\n",
    "\n",
    "$$\n",
    "P(A \\cup B) = P(A) + P(B) - P(A \\cap B) \\hspace{10pt} \\rightarrow \\hspace{10pt} P(A \\cap B) = P(A) + P(B) - P(A \\cup B).\n",
    "$$\n",
    "\n",
    "Furthermore, we can define the intersection of two probabilities to be \n",
    "\n",
    "$$\n",
    "P(A \\cup B) = 1 - P(A' \\cap B').\n",
    "$$\n",
    "\n",
    "In this context, $P(A' \\cap B') = 0.3$. Using the above formulae we can then say\n",
    "\n",
    "$$\n",
    "\\color{blue}{P(A \\cap B) = P(A) + P(B) - P(A \\cup B) = P(A) + P(B) - (1 - P(A' \\cap B')) = P(A) + P(B) - 1 + P(A' \\cap B') = 0.2 + 0.6 - 1 + 0.3 = 1.1 - 1 = 0.1.}\n",
    "$$\n",
    "\n",
    "### 2b Solution\n",
    "\n",
    "Mathematically this is \n",
    "\n",
    "$$\n",
    "P(B|A') = \\frac{P(A' \\cap B)}{P(A')}\n",
    "$$\n",
    "\n",
    "but in order to solve this, we need to calculate $P(A' \\cap B)$. This is easiest answered by making a table of the probabilities:\n",
    "\n",
    "| | A | A' | Accumulative |\n",
    "| ----- | ----- | ----- | ----- |\n",
    "| B | 0.1 | 0.5 | 0.6 | \n",
    "| B' | 0.1 | 0.3 | 0.4 |\n",
    "| Accumulative | 0.2 | 0.8 | 1 |\n",
    "\n",
    "From this, we can see that $P(A' \\cap B) = 0.5$. Using this with the other values we can then say:\n",
    "\n",
    "$$\n",
    "\\color{blue}{P(B|A') = \\frac{1/2}{4/5} = \\frac{5}{8}}.\n",
    "$$"
   ]
  },
  {
   "cell_type": "markdown",
   "id": "0e170d08",
   "metadata": {
    "deletable": false,
    "editable": false
   },
   "source": [
    "<!-- END QUESTION -->\n",
    "\n",
    "To check your answer for Problem 2a, enter the answer you came up with (just the number) in the cell below. Note that this is just a public test. Full credit requires that you show all your work written in LaTeX fully justifying your answer in the cell above.  "
   ]
  },
  {
   "cell_type": "code",
   "execution_count": 11,
   "id": "73372c9e",
   "metadata": {
    "tags": []
   },
   "outputs": [],
   "source": [
    "q2a_answer = 1 / 10"
   ]
  },
  {
   "cell_type": "code",
   "execution_count": 12,
   "id": "cea19281",
   "metadata": {
    "deletable": false,
    "editable": false
   },
   "outputs": [
    {
     "data": {
      "text/html": [
       "<p><strong><pre style='display: inline;'>q2acheck</pre></strong> passed! 🍀</p>"
      ],
      "text/plain": [
       "q2acheck results: All test cases passed!"
      ]
     },
     "execution_count": 12,
     "metadata": {},
     "output_type": "execute_result"
    }
   ],
   "source": [
    "grader.check(\"q2acheck\")"
   ]
  },
  {
   "cell_type": "markdown",
   "id": "f4fdf61c",
   "metadata": {
    "deletable": false,
    "editable": false
   },
   "source": [
    "To check your answer for Problem 2b, enter the answer you came up with (just the number) in the cell below. Note that this is just a public test. Full credit requires that you show all your work written in LaTeX fully justifying your answer in the Markdown cell provided above.  "
   ]
  },
  {
   "cell_type": "code",
   "execution_count": 13,
   "id": "b454f3d3",
   "metadata": {
    "tags": []
   },
   "outputs": [],
   "source": [
    "q2b_answer = 5 / 8"
   ]
  },
  {
   "cell_type": "code",
   "execution_count": 14,
   "id": "b43c5c96",
   "metadata": {
    "deletable": false,
    "editable": false
   },
   "outputs": [
    {
     "data": {
      "text/html": [
       "<p><strong><pre style='display: inline;'>q2bcheck</pre></strong> passed! ✨</p>"
      ],
      "text/plain": [
       "q2bcheck results: All test cases passed!"
      ]
     },
     "execution_count": 14,
     "metadata": {},
     "output_type": "execute_result"
    }
   ],
   "source": [
    "grader.check(\"q2bcheck\")"
   ]
  },
  {
   "cell_type": "markdown",
   "id": "2ba3c6c2",
   "metadata": {
    "deletable": false,
    "editable": false
   },
   "source": [
    "<!-- BEGIN QUESTION -->\n",
    "\n",
    "[Back to top](#top)\n",
    "\n",
    "<a id='p3'></a>\n",
    "\n",
    "### Problem 3\n",
    "\n",
    "The accuracy of a diagnostic test is often described using the following terms:\n",
    "\n",
    " - Test Sensitivity: Ability to detect a positive case (i.e. probability that the test is positive given that the person actually has the virus).\n",
    "\n",
    " - Test Specificity:  Ability to determine a negative case (i.e. the probability that a person tests negative given that they don't have the virus)).\n",
    "\n",
    "Suppose a  diagnostic test for a virus is reported to have $90\\%$ sensitivity and $92\\%$ specificity.\n",
    "\n",
    "Suppose $2\\%$ of the population has the virus in question.  \n",
    "\n",
    "Answer the following questions all in ONE cell below using LaTeX.  Show all steps.\n",
    "\n",
    "**3a) (5 pts)**.  If a person is chosen at random from the population and the diagnostic test indicates that they have the virus, what is the conditional probability that they do, in fact, have the virus?    Write up your full solution using LaTeX.\n",
    "\n",
    "**3b) (1 pt)**.  Terminology: What is the prior and what is the likelihood in this scenario?\n"
   ]
  },
  {
   "cell_type": "markdown",
   "id": "a2a48d09",
   "metadata": {},
   "source": [
    "### 3a Solution\n",
    "\n",
    "To answer this question, we are essentially attempting to solve \n",
    "\n",
    "$$\n",
    "P(A|B) = \\frac{P(B|A)P(A)}{P(B)}.\n",
    "$$\n",
    "\n",
    "In the above, the terms are:\n",
    "\n",
    "- $P(A|B)$: The probability of having the virus given a positive test result.\n",
    "- $P(B|A)$: The probability of testing negative given that they don't have the virus.\n",
    "- $P(A)$: The prevalence of the virus.\n",
    "- $P(B)$: The probability of testing positive.\n",
    "\n",
    "$P(B)$ is calculated by summing the false positive results with the true negative results, namely\n",
    "\n",
    "$$\n",
    "P(B) = P(B|A)P(A) + P(B|A')P(A').\n",
    "$$\n",
    "\n",
    "Here:\n",
    "\n",
    "- $P(B|A')$: The probability of a false negative.\n",
    "- $P(A')$: The probability of not having the virus.\n",
    "\n",
    "Stitching this together we then have\n",
    "\n",
    "$$\n",
    "\\color{blue}{P(A|B) = \\frac{P(B|A)P(A)}{P(B|A)P(A) + P(B|A')P(A')} = \\frac{(0.90)(0.02)}{(0.90)(0.02) + (0.08)(0.98)} \\approx = 0.1867 = \\frac{45}{241}}.\n",
    "$$\n",
    "\n",
    "### 3b Solution\n",
    "\n",
    "In this scenario, the **prior** is referring to the prevalence of the virus, or in English, how many people have the virus: 2%. The **likelihood** is referring to the tests sensitivity, or the likelihood of a true positive test: 0.90%."
   ]
  },
  {
   "cell_type": "markdown",
   "id": "2e62757b",
   "metadata": {
    "deletable": false,
    "editable": false
   },
   "source": [
    "<!-- END QUESTION -->\n",
    "\n",
    "To check your answer for Problem 3a, enter the answer you came up with (just the probability) in the cell below. Note that this is just a public test. Full credit requires that you show all your work written in LaTeX and fully justifying your answer above."
   ]
  },
  {
   "cell_type": "code",
   "execution_count": 15,
   "id": "dc7d990f",
   "metadata": {
    "tags": []
   },
   "outputs": [],
   "source": [
    "q3a_answer = 45 / 241"
   ]
  },
  {
   "cell_type": "code",
   "execution_count": 16,
   "id": "9fba8d74",
   "metadata": {
    "deletable": false,
    "editable": false
   },
   "outputs": [
    {
     "data": {
      "text/html": [
       "<p><strong><pre style='display: inline;'>q3check</pre></strong> passed! 🍀</p>"
      ],
      "text/plain": [
       "q3check results: All test cases passed!"
      ]
     },
     "execution_count": 16,
     "metadata": {},
     "output_type": "execute_result"
    }
   ],
   "source": [
    "grader.check(\"q3check\")"
   ]
  },
  {
   "cell_type": "markdown",
   "id": "7357582c",
   "metadata": {
    "deletable": false,
    "editable": false
   },
   "source": [
    "<!-- BEGIN QUESTION -->\n",
    "\n",
    "***\n",
    "[Back to top](#top)\n",
    "\n",
    "<a id='p4'></a>\n",
    "\n",
    "### Problem 4: Poker!\n",
    "\n",
    "A common example for discrete counting and probability questions are poker hands.  Consider using a standard 52-card playing deck, with card ranks `[A,2,3,4,5,6,7,8,9,10,J,Q,K]` across the standard 4 suits: `[C,D,H,S]`.\n",
    "\n",
    "**Part 4A (3 pts)** \n",
    "\n",
    "Suppose we draw 5 cards at random from the deck without replacement.  \n",
    "\n",
    "In Poker, \"Three of a Kind\" is defined as a hand that contains three cards of one rank and two cards of two other ranks.  Notice that in this definition a Full House (a hand that contains three cards of one rank and two cards of another rank) is NOT classified as \"three of a kind\".  https://en.wikipedia.org/wiki/List_of_poker_hands#Three_of_a_kind\n",
    "\n",
    "\n",
    "<img src=\"img/three.png\" width=\"330px\">\n",
    "\n",
    "What is the probability of drawing 5 cards (without replacement) that are \"three of a kind?\"\n",
    "\n",
    "Typeset your work using LaTeX below.  Show work justifying all steps.  You may leave your answer in terms of a ratio of products, but you should simplify away any combinatoric notation such as ${n \\choose k}$ or $P(n,k)$.\n"
   ]
  },
  {
   "cell_type": "markdown",
   "id": "4bcb3927",
   "metadata": {},
   "source": [
    "To answer this question, we need to meticulously think about how the cards are being chosen. We are selecting five cards at random from a deck of cards, namely ${52 \\choose 5}$. We then need to choose one rank from the 13 ranks for the three of kind part of a full house. Mathematically this is ${13 \\choose 1}$. We then need to choose three cards from the chosen rank, so ${4 \\choose 3}$ (4 because there are four cards from this rank). We then need to select two cards from the other possible ranks, so this is ${12 \\choose 2}$ (12 because we are excluding the previous rank from the last chosen rank for the. three of a kind part). For these last two cards, we need to choose a card from the another two ranks. As the problem statement says, we don't need them to be the same. This is then ${4 \\choose 1}^{2}$. Putting this together we then get\n",
    "\n",
    "$$\n",
    "\\begin{align*}\n",
    "P & = \\frac{{13 \\choose 1} \\cdot {4 \\choose 3} \\cdot {12 \\choose 2} \\cdot {4 \\choose 1}^{2}}{{52 \\choose 5}} \\\\\n",
    "& = \\frac{\\frac{13!}{1!(13 - 1)!} \\cdot \\frac{4!}{3!(4 - 3)!} \\cdot \\frac{12!}{2!(12 - 2)!} \\cdot \\left(\\frac{4!}{1!(4-1)!}\\right)^{2}}{\\frac{52!}{5!(52 - 5)!}} \\\\\n",
    "& = \\frac{13 \\cdot 4 \\cdot 66 \\cdot 16}{2598960} = \\frac{54912}{2595960}\n",
    "\\end{align*}\n",
    "$$\n",
    "\n",
    "and simplifying the last part of the solution we then get\n",
    "\n",
    "$$\n",
    "\\color{blue}{P = \\frac{88}{4165} \\approx 0.0211}.\n",
    "$$"
   ]
  },
  {
   "cell_type": "markdown",
   "id": "95b8f59d",
   "metadata": {
    "deletable": false,
    "editable": false
   },
   "source": [
    "<!-- END QUESTION -->\n",
    "\n",
    "To check your answer for 4a, enter the answer you came up with (just the probability) in the cell below. Note that this is just a public test. Full credit requires that you show all your work written in LaTeX and fully justifying your answer in the cell above."
   ]
  },
  {
   "cell_type": "code",
   "execution_count": 17,
   "id": "4928731e",
   "metadata": {
    "tags": []
   },
   "outputs": [],
   "source": [
    "q4a_answer = 88 / 4165"
   ]
  },
  {
   "cell_type": "code",
   "execution_count": 18,
   "id": "580fdd09",
   "metadata": {
    "deletable": false,
    "editable": false
   },
   "outputs": [
    {
     "data": {
      "text/html": [
       "<p><strong><pre style='display: inline;'>q4acheck</pre></strong> passed! ✨</p>"
      ],
      "text/plain": [
       "q4acheck results: All test cases passed!"
      ]
     },
     "execution_count": 18,
     "metadata": {},
     "output_type": "execute_result"
    }
   ],
   "source": [
    "grader.check(\"q4acheck\")"
   ]
  },
  {
   "cell_type": "markdown",
   "id": "c93830f5",
   "metadata": {
    "deletable": false,
    "editable": false
   },
   "source": [
    "\n",
    "\n",
    "\n",
    "\n",
    "One of the big payoffs of simulation is that it can let us answer some probability questions that are otherwise quite difficult.  We can instead just simulate the process and get approximate results based on simulation.\n",
    "\n",
    "\n",
    "\n",
    "In lecture we have outlined several ways to draw random samples using Python:\n",
    "\n",
    "\n",
    "- `np.random.choice(a)` draws a random sample from a population whose elements are in an array `a`. The output is an array consisting of the sampled elements.\n",
    "\n",
    "- `df.sample(n)` draws a random sample of `n` rows from the DataFrame `df`. The output is a DataFrame consisting of the sampled rows. \n",
    "\n",
    "**Part 4B**  Poker with computers!\n",
    "\n",
    "To simulate the scenario you calculated theoretically in part 4a, you will use the steps below to write code to simulate draws of a hand of 5 cards from a standard 52-card deck.  You'll repeat the simulation 10000 times, and report how many \"three of a kind\" hands were observed.  If your simulation code is correct, your answer should be very close to your theoretical answer from part 4a. \n",
    "\n",
    "**4bi)(2 pts)**.  Create a Python `list` called `cards` of 52 strings that represent a full deck of cards (see documentation for Python `list` here: https://docs.python.org/3/library/stdtypes.html#list).  \n",
    "\n",
    "For suits use the labeling `[C,D,H,S]` and for ranks use the labeling `[A,2,3,4,5,6,7,8,9,10,J,Q,K]`. \n",
    "\n",
    "In the string describing the card give the suit first and the rank second.  For example to represent the 3 of hearts use the string 'H3'. To represent the queen of hearts use the string 'HQ`.   \n",
    "Your deck should have 52 distinct cards.\n"
   ]
  },
  {
   "cell_type": "code",
   "execution_count": 19,
   "id": "3a290aa1",
   "metadata": {
    "tags": []
   },
   "outputs": [],
   "source": [
    "suits = [\"C\",\"D\",\"H\",\"S\"]\n",
    "ranks = [\"A\",\"2\",\"3\",\"4\",\"5\",\"6\",\"7\",\"8\",\"9\",\"10\",\"J\",\"Q\",\"K\"]\n",
    "cards = []\n",
    "for i in range(len(suits)):\n",
    "    for j in range(len(ranks)):\n",
    "        cards.append(suits[i] + ranks[j])\n",
    "# 4bi).  Write code to create a list called `cards` representing a 52-card deck above this line.\n"
   ]
  },
  {
   "cell_type": "code",
   "execution_count": 20,
   "id": "4da9de02",
   "metadata": {
    "deletable": false,
    "editable": false
   },
   "outputs": [
    {
     "data": {
      "text/html": [
       "<p><strong><pre style='display: inline;'>q4i</pre></strong> passed! 🎉</p>"
      ],
      "text/plain": [
       "q4i results: All test cases passed!"
      ]
     },
     "execution_count": 20,
     "metadata": {},
     "output_type": "execute_result"
    }
   ],
   "source": [
    "grader.check(\"q4i\")"
   ]
  },
  {
   "cell_type": "markdown",
   "id": "2e721039-2f1e-4f47-bd2d-00e630b3db63",
   "metadata": {
    "deletable": false,
    "editable": false
   },
   "source": [
    "**4bii)(3 pts)**.  Define a function named `three_kind` to take a Python `list` of 5 cards as input (where the cards are given as strings such as `H3`) and check if the cards are Three of a Kind.  Your function should return `True` if the input is 3 of a kind and `False` otherwise. \n",
    "\n",
    "HINT: The function `np.unique` can make checking hands easier. \n"
   ]
  },
  {
   "cell_type": "code",
   "execution_count": 21,
   "id": "f5bddc33",
   "metadata": {
    "tags": []
   },
   "outputs": [],
   "source": [
    "def three_kind(cards):\n",
    "    ranks = [cards[0][1], cards[1][1], cards[2][1], cards[3][1], cards[4][1]]\n",
    "    unique_ranks, counts = np.unique(ranks, return_counts=True)\n",
    "    return (3 in counts) and not (2 in counts)\n",
    "\n",
    "# 4bii).Write a function (above this line) 'three_kind' to check a list of 5 cards to see if it is 3 of a kind "
   ]
  },
  {
   "cell_type": "code",
   "execution_count": 22,
   "id": "0e028438",
   "metadata": {
    "deletable": false,
    "editable": false
   },
   "outputs": [
    {
     "data": {
      "text/html": [
       "<p><strong><pre style='display: inline;'>q4ii</pre></strong> passed! 🚀</p>"
      ],
      "text/plain": [
       "q4ii results: All test cases passed!"
      ]
     },
     "execution_count": 22,
     "metadata": {},
     "output_type": "execute_result"
    }
   ],
   "source": [
    "grader.check(\"q4ii\")"
   ]
  },
  {
   "cell_type": "markdown",
   "id": "5a82bca1-a6bc-49e5-9c35-5d54a45b9a1b",
   "metadata": {
    "deletable": false,
    "editable": false
   },
   "source": [
    "<!-- BEGIN QUESTION -->\n",
    "\n",
    "**4biii)(4 pts)**. \n",
    "\n",
    "Write code in the space below that completes the following steps:\n",
    "\n",
    "Step 1:  Write a function to simulate 10,000 random draws from `cards` of 5 cards each, and check if each draw is Three of a Kind. The function should return the overall proportion of random hands (out of the 10,000) in which Three of a Kind was observed. If you have coded your simulation correctly, your answer to this part should be very close to your theoretical answer from Part 4A.  \n",
    "\n",
    "Step 2:  Let's visualize how this simulation converges to the theoretical probability.   In class, we plotted a running estimate of the probability of an event as a function of the number of trials in our simulation.  Write code that completes 10,000 random draws of 5 cards each, but this time outputs a plot of a running estimate of the proportion of hands that are Three of a Kind as a function of the number of trials (from 1 to 10,000) in your simulation.  **Include a red horizontal line on your plot with the theoretical probability that you calculated in part 4A.**  Be sure to include a title on your plot and be sure to label both your axes on the plot."
   ]
  },
  {
   "cell_type": "code",
   "execution_count": 23,
   "id": "88cd2f2c",
   "metadata": {
    "tags": []
   },
   "outputs": [
    {
     "name": "stdout",
     "output_type": "stream",
     "text": [
      "Calculated Probability: 0.0217\n"
     ]
    }
   ],
   "source": [
    "def threeOfKind(trials):\n",
    "    success = 0\n",
    "    successArr = np.zeros(trials)\n",
    "    probArr = np.zeros(trials)\n",
    "    trialsArr = np.arange(1, trials + 1)\n",
    "    for i in range(trials):\n",
    "        testHand = np.random.choice(cards, size = 5, replace = False)\n",
    "        threeOfKind = three_kind(testHand)\n",
    "        if (threeOfKind):\n",
    "            success += 1\n",
    "        successArr[i] = success\n",
    "        probArr[i] = successArr[i] / trialsArr[i]\n",
    "    return (success / trials), successArr, probArr, trialsArr\n",
    "\n",
    "print(f\"Calculated Probability: {threeOfKind(10000)[0]}\")\n",
    "#4biii).Write your code for Step 1 above this line"
   ]
  },
  {
   "cell_type": "code",
   "execution_count": 24,
   "id": "8be0968b-f024-4e32-8970-37c2d8d86297",
   "metadata": {
    "tags": []
   },
   "outputs": [
    {
     "data": {
      "image/png": "[encoded data removed]",
      "text/plain": [
       "<Figure size 640x480 with 1 Axes>"
      ]
     },
     "metadata": {},
     "output_type": "display_data"
    }
   ],
   "source": [
    "trials = 10000\n",
    "threeOfKindSim = threeOfKind(trials)\n",
    "plt.plot(threeOfKindSim[3], threeOfKindSim[2], color='b', label=f'Simulation Probability $\\\\approx$ {np.round(threeOfKindSim[0], 4)}')\n",
    "plt.axhline(y=(88 / 4165), color='r', linestyle='--', label=f'Theoretical Probability $\\\\approx$ {np.round(88 / 4165, 4)}')\n",
    "plt.xlabel(f\"Number Of Trials Out of {trials} Total\")\n",
    "plt.ylabel(f\"Probability At Current Trial Count\")\n",
    "plt.title(f\"Simulation For {trials} Searching For Three Of Kind\")\n",
    "plt.legend()\n",
    "plt.show()\n",
    "        \n",
    "# 4biii) Write your code for Step 2 above this line"
   ]
  },
  {
   "cell_type": "markdown",
   "id": "656bc114",
   "metadata": {
    "deletable": false,
    "editable": false
   },
   "source": [
    "<!-- END QUESTION -->\n",
    "\n",
    "<!-- BEGIN QUESTION -->\n",
    "\n",
    "***\n",
    "[Back to top](#top)\n",
    "\n",
    "<a id='p5'></a>\n",
    "\n",
    "### Problem 5\n",
    "\n",
    "To play a game, you have a bag containing 28 fair [four-sided dice](https://en.wikipedia.org/wiki/Four-sided_die), with faces `{1,2,3,4}`.  This bag also contains 9 fair six-sided dice (faces `{1,2,3,4,5,6}`) and 3 fair twenty-sided dice (faces `{1,2,3,4,...,19,20}`).  Call these 3 classes of die \"Four\", \"Six\" and \"Twenty\" (or $D_4$, $D_6$, and $D_{20}$, for short).  You grab one die at random from the box.  \n",
    "\n",
    "Work the following problems by hand and write up your full solution using LaTeX unless otherwise stated (but don't be afraid to simulate to check your result!). "
   ]
  },
  {
   "cell_type": "markdown",
   "id": "fc16aa75",
   "metadata": {
    "deletable": false,
    "editable": false
   },
   "source": [
    "**Part 5A (3 pts)**: You grab one die at random from the box and roll it one time.  What is the probability of the event $R_5$, that you roll a 5? Explain your reasoning mathematically (using LaTeX).   "
   ]
  },
  {
   "cell_type": "markdown",
   "id": "3274be64",
   "metadata": {},
   "source": [
    "There are a total of 12 di in this scenario that actually have a 5 on them. There are a total of 28 di in this example that do not have a 5 on them. The only chance that we get a 5 from this scenario is if we first pick a di that actually has a 5 on it, and then roll a 5 from there. So, we need to sum the probabilities of obtaining a 5 on each di, namely\n",
    "\n",
    "$$\n",
    "\\begin{align}\n",
    "R_{5} & = (R_{D_{4}})_{5} + (R_{D_{6}})_{5} + (R_{D_{20}})_{5} \\\\\n",
    "& = \\frac{28}{40} \\cdot \\frac{0}{4} + \\frac{9}{40} \\cdot \\frac{1}{6} + \\frac{3}{40} \\cdot \\frac{1}{20} \\\\\n",
    "& = 0 + \\frac{9}{240} + \\frac{3}{800} = \\frac{33}{800}\n",
    "\\end{align}\n",
    "$$\n",
    "\n",
    "finally, we have\n",
    "\n",
    "$$\n",
    "\\color{blue}{\\frac{33}{800} \\approx 0.0413}.\n",
    "$$"
   ]
  },
  {
   "cell_type": "markdown",
   "id": "295114bf",
   "metadata": {
    "deletable": false,
    "editable": false
   },
   "source": [
    "<!-- END QUESTION -->\n",
    "\n",
    "To check your answer for 5a, enter the answer you came up with (just the probability) in the cell below. Note that this is just a public test. Full credit requires that you show all your work written in LaTeX and fully justifying your answer in part 5a above."
   ]
  },
  {
   "cell_type": "code",
   "execution_count": 25,
   "id": "74b46d0f",
   "metadata": {
    "tags": []
   },
   "outputs": [],
   "source": [
    "q5a_answer = (28 / 40) * (0 / 4) + (9 / 40) * (1 / 6) + (3 / 40) * (1 / 20)"
   ]
  },
  {
   "cell_type": "code",
   "execution_count": 26,
   "id": "7e6c7224",
   "metadata": {
    "deletable": false,
    "editable": false
   },
   "outputs": [
    {
     "data": {
      "text/html": [
       "<p><strong><pre style='display: inline;'>q5acheck</pre></strong> passed! 🌈</p>"
      ],
      "text/plain": [
       "q5acheck results: All test cases passed!"
      ]
     },
     "execution_count": 26,
     "metadata": {},
     "output_type": "execute_result"
    }
   ],
   "source": [
    "grader.check(\"q5acheck\")"
   ]
  },
  {
   "cell_type": "markdown",
   "id": "b1bef844",
   "metadata": {
    "deletable": false,
    "editable": false
   },
   "source": [
    "<!-- BEGIN QUESTION -->\n",
    "\n",
    "**Part 5B (3 pts)**: Suppose you roll a 5.  Given this information, what is the probability that the die you chose from the box is a Six-sided die? Write up your full solution using LaTeX. Show all steps.  "
   ]
  },
  {
   "cell_type": "markdown",
   "id": "9dd49b95",
   "metadata": {},
   "source": [
    "For this problem we are essentially calculating\n",
    "\n",
    "$$\n",
    "P(D_{6}|R_{5}) = \\frac{P(R_{5} \\cap D_{6})}{P(R_{5})}.\n",
    "$$\n",
    "\n",
    "For the first part $P(R_{5} \\cap D_{6})$, this is the probability of selecting a 5 from a six sided di, so $\\frac{9}{40} \\cdot \\frac{1}{6} = \\frac{9}{240}$. $P(R_{5})$ is the total probability of selecting 5 out of all the di. Stitching this together we then have\n",
    "\n",
    "$$\n",
    "P(D_{6}|R_{5}) = \\frac{9 / 240}{33 / 800} = \\frac{10}{11}\n",
    "$$\n",
    "\n",
    "giving us the final probability of \n",
    "\n",
    "$$\n",
    "\\color{blue}{P(D_{6}|R_{5}) = \\frac{10}{11} \\approx 0.9091}.\n",
    "$$"
   ]
  },
  {
   "cell_type": "markdown",
   "id": "f0dcffd4",
   "metadata": {
    "deletable": false,
    "editable": false
   },
   "source": [
    "<!-- END QUESTION -->\n",
    "\n",
    "To check your answer for 5b, enter the answer you came up with (just the probability) in the cell below. Note that this is just a public test. Full credit requires that you show all your work written in LaTeX and fully justifying your answer in part 5b above."
   ]
  },
  {
   "cell_type": "code",
   "execution_count": 27,
   "id": "4347169f",
   "metadata": {
    "tags": []
   },
   "outputs": [],
   "source": [
    "q5b_answer = 10 / 11"
   ]
  },
  {
   "cell_type": "code",
   "execution_count": 28,
   "id": "c18b6c65",
   "metadata": {
    "deletable": false,
    "editable": false
   },
   "outputs": [
    {
     "data": {
      "text/html": [
       "<p><strong><pre style='display: inline;'>q5bcheck</pre></strong> passed! 🚀</p>"
      ],
      "text/plain": [
       "q5bcheck results: All test cases passed!"
      ]
     },
     "execution_count": 28,
     "metadata": {},
     "output_type": "execute_result"
    }
   ],
   "source": [
    "grader.check(\"q5bcheck\")"
   ]
  },
  {
   "cell_type": "markdown",
   "id": "58bcab0a",
   "metadata": {
    "deletable": false,
    "editable": false
   },
   "source": [
    "<!-- BEGIN QUESTION -->\n",
    "\n",
    "**Part 5C (2 pts):**  Are the events $R_5$ and $D_6$ independent?  Write up your full solution using LaTeX. Show all steps. Justify your answer **using the mathematical definition of independence**."
   ]
  },
  {
   "cell_type": "markdown",
   "id": "b24b1b85",
   "metadata": {},
   "source": [
    "Two events are considered to be independent if the following statement is found to be true\n",
    "\n",
    "$$\n",
    "P(A \\cap B) = P(A) \\cdot P(B).\n",
    "$$\n",
    "\n",
    "In this context, $P(A)$ refers to the probability of rolling a 5 and $P(B)$ corresponds to the probability of selecting a six sided di. From the previous part we know\n",
    "\n",
    "$$\n",
    "P(R_{5} \\cap D_{6}) = \\frac{10}{11}.\n",
    "$$\n",
    "\n",
    "Furthermore, we can show that\n",
    "\n",
    "$$\n",
    "P(R_{5}) \\cdot P(D_{6}) = \\frac{33}{800} \\cdot \\frac{9}{40} = \\frac{297}{32000}.\n",
    "$$\n",
    "\n",
    "Comparing these two we can see \n",
    "\n",
    "$$\n",
    "\\left(P(R_{5} \\cap D_{6}) = \\frac{10}{11}\\right) \\neq \\left(P(R_{5}) \\cdot P(D_{6}) = \\frac{297}{32000}\\right).\n",
    "$$\n",
    "\n",
    "Thus, we can conclude that these events are $\\color{blue}{\\text{dependent}}$."
   ]
  },
  {
   "cell_type": "markdown",
   "id": "24638e4a",
   "metadata": {
    "deletable": false,
    "editable": false
   },
   "source": [
    "<!-- END QUESTION -->\n",
    "\n",
    "To check your answer for 5c, enter the answer you came up with as a string (e.g., `'in/dependent'`) in the cell below. Note that this is just a public test. Full credit requires that you show all your work written in LaTeX and fully justifying your answer in part 5c above."
   ]
  },
  {
   "cell_type": "code",
   "execution_count": 29,
   "id": "c2fb3f78",
   "metadata": {
    "tags": []
   },
   "outputs": [],
   "source": [
    "q5c_answer = 'dependent'"
   ]
  },
  {
   "cell_type": "code",
   "execution_count": 30,
   "id": "e265d1a7",
   "metadata": {
    "deletable": false,
    "editable": false
   },
   "outputs": [
    {
     "data": {
      "text/html": [
       "<p><strong><pre style='display: inline;'>q5ccheck</pre></strong> passed! 🎉</p>"
      ],
      "text/plain": [
       "q5ccheck results: All test cases passed!"
      ]
     },
     "execution_count": 30,
     "metadata": {},
     "output_type": "execute_result"
    }
   ],
   "source": [
    "grader.check(\"q5ccheck\")"
   ]
  },
  {
   "cell_type": "markdown",
   "id": "11fbdb39",
   "metadata": {
    "deletable": false,
    "editable": false
   },
   "source": [
    "<!-- BEGIN QUESTION -->\n",
    "\n",
    "***\n",
    "[Back to top](#top)\n",
    "\n",
    "<a id='p6'></a>\n",
    "\n",
    "### Problem 6\n",
    "\n",
    "Suppose you roll two fair six-sided dice.  Let $C$ be the event that the two rolls are _close_ to one another in value, in the sense that they're either equal or differ by only 1.  \n",
    "\n",
    "**Part 6A (3 pts)**: Compute $P(C)$ by hand.  Show all steps using LaTeX.\n"
   ]
  },
  {
   "cell_type": "markdown",
   "id": "d77a9c5c",
   "metadata": {},
   "source": [
    "In essence, there are going to be a total of 36 possible combinations of rolled di, we just need to count the close values:\n",
    "\n",
    "- (1,1), (1,2)\n",
    "- (2,1), (2,2), (2,3)\n",
    "- (3,2), (3,3), (3,4)\n",
    "- (4,3), (4,4), (4,5)\n",
    "- (5,4), (5,5), (5,6)\n",
    "- (6,5), (6,6)\n",
    "\n",
    "Counting the above, we have a total of 16 total possible outcomes where this is true. Therefore we can then say the probability $P(C)$ occurring is then\n",
    "\n",
    "$$\n",
    "\\color{blue}{P(C) = \\frac{16}{36}} = 0.\\bar{4}.\n",
    "$$"
   ]
  },
  {
   "cell_type": "markdown",
   "id": "e914779b",
   "metadata": {
    "deletable": false,
    "editable": false
   },
   "source": [
    "<!-- END QUESTION -->\n",
    "\n",
    "To check your answer for 6a, enter the answer you came up with (just the probability) in the cell below. Note that this is just a public test. Full credit requires that you show all your work written in LaTeX and fully justifying your answer in part 6a above."
   ]
  },
  {
   "cell_type": "code",
   "execution_count": 31,
   "id": "95ffa14f",
   "metadata": {
    "tags": []
   },
   "outputs": [],
   "source": [
    "q6a_answer = 16 / 36"
   ]
  },
  {
   "cell_type": "code",
   "execution_count": 32,
   "id": "3185fe73",
   "metadata": {
    "deletable": false,
    "editable": false
   },
   "outputs": [
    {
     "data": {
      "text/html": [
       "<p><strong><pre style='display: inline;'>q6acheck</pre></strong> passed! 🌈</p>"
      ],
      "text/plain": [
       "q6acheck results: All test cases passed!"
      ]
     },
     "execution_count": 32,
     "metadata": {},
     "output_type": "execute_result"
    }
   ],
   "source": [
    "grader.check(\"q6acheck\")"
   ]
  },
  {
   "cell_type": "markdown",
   "id": "74cc8948",
   "metadata": {
    "deletable": false,
    "editable": false
   },
   "source": [
    "<!-- BEGIN QUESTION -->\n",
    "\n",
    "**Part 6B (3 pts)**: \n",
    "Write a simulation to run 10,000 trials of rolling a pair of dice and estimate the value of $P(C)$ you calculated in **Part A**.  Your estimate should agree with the exact calculation you did in **Part A**.  If it doesn't, try increasing the number of trials in your simulation. "
   ]
  },
  {
   "cell_type": "code",
   "execution_count": 33,
   "id": "a22a53f9",
   "metadata": {
    "tags": []
   },
   "outputs": [
    {
     "name": "stdout",
     "output_type": "stream",
     "text": [
      "Calculated Probability: 0.4483\n"
     ]
    }
   ],
   "source": [
    "# Here I am making the number of trials arbitrary, simply pass in 10,000 to the function to generate a simulation for 10,000 trials :)\n",
    "def DiRolls(trials):\n",
    "    di1 = [1, 2, 3, 4, 5, 6]\n",
    "    di2 = [1, 2, 3, 4, 5, 6]\n",
    "    success = 0\n",
    "    successArr = np.zeros(trials)\n",
    "    probArr = np.zeros(trials)\n",
    "    trialsArr = np.arange(1, trials + 1)\n",
    "    for i in range(trials):\n",
    "        roll1 = np.random.choice(di1, size=1, replace=True)\n",
    "        roll2 = np.random.choice(di2, size=1, replace=True)\n",
    "        val1 = roll1[0]\n",
    "        val2 = roll2[0]\n",
    "        if ((val1 == val2) or (np.abs(val1 - val2) == 1)):\n",
    "            success += 1\n",
    "        successArr[i] = (success)\n",
    "        probArr[i] = successArr[i] / trialsArr[i]\n",
    "    return (success / trials), successArr, probArr, trialsArr\n",
    "testRun = DiRolls(10000)\n",
    "print(f\"Calculated Probability: {testRun[0]}\")\n",
    "#Your code above this line"
   ]
  },
  {
   "cell_type": "markdown",
   "id": "051be3a3",
   "metadata": {
    "deletable": false,
    "editable": false
   },
   "source": [
    "<!-- END QUESTION -->\n",
    "\n",
    "<!-- BEGIN QUESTION -->\n",
    "\n",
    "##### **Part 6C (3 pts)**:  \n",
    "In class we plotted a running estimate of the probability of an event as a function of the number of trials in our simulation.  Write code to run 5 independent simulations of 50,000 trials each to estimate $P(C)$ and plot their running estimate curves on the same set of axes. **Hint**: This is a lot of computation, so try to leverage Numpy as much as possible so that your code doesn't run forever. \n",
    "\n",
    "**Include a red horizontal line on your plot with the theoretical probability that you calculated in part 6A.**  Be sure to include a title on your plot and be sure to label both your axes on the plot."
   ]
  },
  {
   "cell_type": "code",
   "execution_count": 34,
   "id": "f9032ffe",
   "metadata": {
    "tags": []
   },
   "outputs": [
    {
     "data": {
      "image/png": "[encoded data removed]",
      "text/plain": [
       "<Figure size 640x480 with 1 Axes>"
      ]
     },
     "metadata": {},
     "output_type": "display_data"
    }
   ],
   "source": [
    "def DiSimulation(trials, simulations):\n",
    "    indSims = [np.array([]) for _ in range(simulations)]\n",
    "    for i in range(simulations):\n",
    "        indSims[i] = DiRolls(50000)\n",
    "    plt.plot(indSims[0][3], indSims[0][2], color='b', label=f'Simulation 1 $\\\\approx$ {np.round(indSims[0][0], 4)}')\n",
    "    plt.plot(indSims[1][3], indSims[1][2], color='g', label=f'Simulation 2 $\\\\approx$ {np.round(indSims[1][0], 4)}')\n",
    "    plt.plot(indSims[2][3], indSims[2][2], color='y', label=f'Simulation 3 $\\\\approx$ {np.round(indSims[2][0], 4)}')\n",
    "    plt.plot(indSims[3][3], indSims[3][2], color='c', label=f'Simulation 4 $\\\\approx$ {np.round(indSims[3][0], 4)}')\n",
    "    plt.plot(indSims[4][3], indSims[4][2], color='black', label=f'Simulation 5 $\\\\approx$ {np.round(indSims[4][0], 4)}')\n",
    "    plt.axhline(y=(16 / 36), color='r', linestyle='--', label=f'Theoretical Probability $\\\\approx$ {np.round(16 / 36, 4)}')\n",
    "    plt.xlabel(f\"Number Of Trials Out of {trials} Total\")\n",
    "    plt.ylabel(f\"Probability At Current Trial Count\")\n",
    "    plt.title(f\"{simulations} Simulations For {trials} Rolls Of Di\")\n",
    "    plt.legend()\n",
    "    plt.show()\n",
    "DiSimulation(50000, 5)\n",
    "# Your code above this line"
   ]
  },
  {
   "cell_type": "markdown",
   "id": "c1c71570",
   "metadata": {
    "deletable": false,
    "editable": false
   },
   "source": [
    "<!-- END QUESTION -->\n",
    "\n",
    "<!-- BEGIN QUESTION -->\n",
    "\n",
    "**Part 6D (1 pt)**: Describe the behavior of the running estimates as the number of trials increases.\n",
    "\n",
    "i).  What value(s) are they converging to?  \n",
    "ii).  How many trials does it take until they appear to converge?"
   ]
  },
  {
   "cell_type": "markdown",
   "id": "ee9f2aab",
   "metadata": {},
   "source": [
    "### Solution 6Di\n",
    "\n",
    "The values are converging to the theoretical value, as expected.\n",
    "\n",
    "### Solution 6Dii\n",
    "\n",
    "It appears that around 10,000 total trials for each simulation, this is where the values converge. Some occur earlier, but this is where it seems that most are around that value."
   ]
  },
  {
   "cell_type": "markdown",
   "id": "cf1943b4",
   "metadata": {
    "deletable": false,
    "editable": false
   },
   "source": [
    "<!-- END QUESTION -->\n",
    "\n",
    "<!-- BEGIN QUESTION -->\n",
    "\n",
    "[Back to top](#top)\n",
    "\n",
    "<a id='p7'></a>\n",
    "\n",
    "## Problem 7    \n",
    "    \n",
    "Three brands of coffee, $X$, $Y$ and $Z$, are to be ranked according to taste by a single judge.  Define the following events:\n",
    "\n",
    "Event A: Brand $X$ is preferred to $Y$\n",
    "\n",
    "Event B: Brand $X$ is ranked best.\n",
    "\n",
    "Event C: Brand $X$ is ranked second best.\n",
    "\n",
    "Event D: Brand $X$ is ranked third best.\n",
    "\n",
    "If the judge actually has no taste preference and just randomly assigns ranks to the brands, which of the following events are independent and which are dependent?  Justify your answers using the mathematical definition of independence.  Write up your full solution using LaTeX.\n",
    "\n",
    "**Part 7a (2 pts)**.  Are events $A$ and $B$ independent or dependent?\n",
    "\n",
    "**Part 7b (2 pts)**. Are events $A$ and $C$ independent or dependent?\n",
    "\n",
    "**Part 7c (2 pts)**. Are events $A$ and $D$ independent or dependent?\n",
    "\n",
    "Answer all 3 parts using LaTeX in the ONE cell provided below.  "
   ]
  },
  {
   "cell_type": "markdown",
   "id": "10ba86d8",
   "metadata": {},
   "source": [
    "Referring to earlier in this notebook, the mathematical definition of independence is defined to be\n",
    "\n",
    "$$\n",
    "P(A \\cap B) = P(A)P(B).\n",
    "$$\n",
    "\n",
    "If the LHS of the aforementioned expression is not equal to that of the RHS, then the relationship is defined to be **dependent**.\n",
    "\n",
    "The coffees can be ranked in the following permutations:\n",
    "\n",
    "- $X,Y,Z$\n",
    "- $X,Z,Y$\n",
    "- $Y,X,Z$\n",
    "- $Y,Z,X$\n",
    "- $Z,X,Y$\n",
    "- $Z,Y,X$\n",
    "\n",
    "### Solution 7a\n",
    "\n",
    "Event A occurs three times of the six possibilities. Event B occurs two times out of the six possibilities. In this context, for $X$ to be preferred over $Y$ and ranked as best, this only occurs two times out of the six possibilities. Mathematically this is\n",
    "\n",
    "$$\n",
    "\\left(P(A \\cap B) = \\frac{2}{6}\\right) \\neq \\left(P(A)P(B) = \\frac{3}{6} \\cdot \\frac{2}{6} = \\frac{1}{6}\\right)\n",
    "$$\n",
    "\n",
    "and therefore these Events are **dependent**.\n",
    "\n",
    "### Solution 7b\n",
    "\n",
    "Event C occurs two times out of the six possibilities. In this context, for $X$ to be preferred over $Y$ and be ranked second best, this only occurs one time out of the six possibilities. Mathematically this is\n",
    "\n",
    "$$\n",
    "\\left(P(A \\cap C) = \\frac{1}{6}\\right) = \\left(P(A)P(C) = \\frac{3}{6} \\cdot \\frac{2}{6} = \\frac{1}{6} \\right)\n",
    "$$\n",
    "\n",
    "and therefore these Events are **independent**.\n",
    "\n",
    "### Solution 7c\n",
    "\n",
    "Event D occurs two times out of the six possibilities. In this context, it is not possible for $X$ to be preferred over $Y$ and ranked third best. Mathematically this is\n",
    "\n",
    "$$\n",
    "\\left(P(A \\cap D) = 0\\right) \\neq \\left(P(A)P(D) = \\frac{3}{6} \\cdot \\frac{2}{6} = \\frac{1}{6}\\right)\n",
    "$$\n",
    "\n",
    "and therefor these Events are **dependent**."
   ]
  },
  {
   "cell_type": "markdown",
   "id": "dcde8c8b",
   "metadata": {
    "deletable": false,
    "editable": false
   },
   "source": [
    "<!-- END QUESTION -->\n",
    "\n",
    "To check your answer for Problem 7, enter the answer you came up as a list of strings (`['in/dependent', 'in/dependent', 'in/dependent']`) in the cell below. Note that this is just a public test. Full credit requires that you show all your work written in LaTeX and fully justifying your answer above."
   ]
  },
  {
   "cell_type": "code",
   "execution_count": 35,
   "id": "9d9b3549",
   "metadata": {
    "tags": []
   },
   "outputs": [],
   "source": [
    "q7_answer = ['dependent', 'independent', 'dependent']"
   ]
  },
  {
   "cell_type": "code",
   "execution_count": 36,
   "id": "9fe842e9",
   "metadata": {
    "deletable": false,
    "editable": false
   },
   "outputs": [
    {
     "data": {
      "text/html": [
       "<p><strong><pre style='display: inline;'>q7check</pre></strong> passed! 🌈</p>"
      ],
      "text/plain": [
       "q7check results: All test cases passed!"
      ]
     },
     "execution_count": 36,
     "metadata": {},
     "output_type": "execute_result"
    }
   ],
   "source": [
    "grader.check(\"q7check\")"
   ]
  },
  {
   "cell_type": "markdown",
   "id": "169d7663",
   "metadata": {},
   "source": [
    "<br/><br/>\n",
    "<hr style=\"border: 5px solid #003262;\" />\n",
    "<hr style=\"border: 1px solid #fdb515;\" />\n",
    "\n",
    "## Congratulations! You have finished Homework 5!"
   ]
  },
  {
   "cell_type": "markdown",
   "id": "cc31acf9",
   "metadata": {},
   "source": [
    "If you discussed this assignment with any other students in the class (in a manner that is acceptable as described by the Collaboration policy above) please **include their names** here:\n",
    "\n",
    "**Collaborators**: *list collaborators here*"
   ]
  },
  {
   "cell_type": "markdown",
   "id": "46739932",
   "metadata": {},
   "source": [
    "### Submission Instructions\n",
    "\n",
    "Before proceeding any further, **save this notebook.**\n",
    "\n",
    "After running the `grader.export()` cell provided below, **2 files will be created**: a zip file and pdf file.  You can download them using the links provided below OR by finding them in the same folder where this juptyer notebook resides in your JuptyerHub.\n",
    "\n",
    "To receive credit on this assignment, **you must submit BOTH of these files\n",
    "to their respective Gradescope portals:** \n",
    "\n",
    "* **Homework 5 Autograded**: Submit the zip file that is output by the `grader.export()` cell below to the HW5 Autograded assignment in Gradescope.\n",
    "\n",
    "* **Homework 5 Manually Graded**: Submit your hw05.PDF to the HW1 Manually Graded assignment in Gradescope.  \n",
    "\n",
    "\n",
    "**You are responsible for ensuring your submission follows our requirements. We will not be granting regrade requests nor extensions to submissions that don't follow instructions.** If you encounter any difficulties with submission, please don't hesitate to reach out to staff prior to the deadline."
   ]
  },
  {
   "cell_type": "markdown",
   "id": "b01ef8ad",
   "metadata": {
    "deletable": false,
    "editable": false
   },
   "source": [
    "## Submission\n",
    "\n",
    "Make sure you have run all cells in your notebook in order before running the cell below, so that all images/graphs appear in the output. The cell below will generate a zip file for you to submit. **Please save before exporting!**\n",
    "\n",
    "AFTER running the cell below, click on <a href='hw05.pdf' download>this link to download the PDF </a> to upload to Gradescope.  There will be a separate link that appears after running the cell below with a link to download the zip file to upload to Gradescope."
   ]
  },
  {
   "cell_type": "code",
   "execution_count": null,
   "id": "76295e41",
   "metadata": {
    "deletable": false,
    "editable": false
   },
   "outputs": [],
   "source": [
    "# Save your notebook first, then run this cell to export your submission.\n",
    "grader.export(run_tests=True)"
   ]
  },
  {
   "cell_type": "markdown",
   "id": "37440dcb",
   "metadata": {},
   "source": [
    " "
   ]
  }
 ],
 "metadata": {
  "kernelspec": {
   "display_name": "Python 3 (ipykernel)",
   "language": "python",
   "name": "python3"
  },
  "language_info": {
   "codemirror_mode": {
    "name": "ipython",
    "version": 3
   },
   "file_extension": ".py",
   "mimetype": "text/x-python",
   "name": "python",
   "nbconvert_exporter": "python",
   "pygments_lexer": "ipython3",
   "version": "3.11.7"
  },
  "otter": {
   "OK_FORMAT": true,
   "tests": {
    "q14": {
     "name": "q14",
     "points": 1,
     "suites": [
      {
       "cases": [
        {
         "code": ">>> assert np.isclose(lone_winners,(18/38)**10 + (18/38)**10 + (2/38)**10 )\n",
         "hidden": false,
         "locked": false
        }
       ],
       "scored": true,
       "setup": "",
       "teardown": "",
       "type": "doctest"
      }
     ]
    },
    "q1a": {
     "name": "q1a",
     "points": 1,
     "suites": [
      {
       "cases": [
        {
         "code": ">>> \n>>> assert np.isclose(first_three_black, (18/38)**3 )\n",
         "hidden": false,
         "locked": false
        }
       ],
       "scored": true,
       "setup": "",
       "teardown": "",
       "type": "doctest"
      }
     ]
    },
    "q1b": {
     "name": "q1b",
     "points": 1,
     "suites": [
      {
       "cases": [
        {
         "code": ">>> assert np.isclose(no_green, (36/38)**10)\n",
         "hidden": false,
         "locked": false
        }
       ],
       "scored": true,
       "setup": "",
       "teardown": "",
       "type": "doctest"
      }
     ]
    },
    "q1c": {
     "name": "q1c",
     "points": 1,
     "suites": [
      {
       "cases": [
        {
         "code": ">>> assert np.isclose(at_least_one_green, 1 - (36/38)**10)\n",
         "hidden": false,
         "locked": false
        }
       ],
       "scored": true,
       "setup": "",
       "teardown": "",
       "type": "doctest"
      }
     ]
    },
    "q2acheck": {
     "name": "q2acheck",
     "points": 0,
     "suites": [
      {
       "cases": [
        {
         "code": ">>> assert np.isclose(q2a_answer, 0.1)\n",
         "hidden": false,
         "locked": false
        }
       ],
       "scored": true,
       "setup": "",
       "teardown": "",
       "type": "doctest"
      }
     ]
    },
    "q2bcheck": {
     "name": "q2bcheck",
     "points": 0,
     "suites": [
      {
       "cases": [
        {
         "code": ">>> assert np.isclose(q2b_answer, 5/8)\n",
         "hidden": false,
         "locked": false
        }
       ],
       "scored": true,
       "setup": "",
       "teardown": "",
       "type": "doctest"
      }
     ]
    },
    "q3check": {
     "name": "q3check",
     "points": 0,
     "suites": [
      {
       "cases": [
        {
         "code": ">>> assert np.isclose(q3a_answer, 45/241)\n",
         "hidden": false,
         "locked": false
        }
       ],
       "scored": true,
       "setup": "",
       "teardown": "",
       "type": "doctest"
      }
     ]
    },
    "q4acheck": {
     "name": "q4acheck",
     "points": 0,
     "suites": [
      {
       "cases": [
        {
         "code": ">>> assert np.isclose(q4a_answer, 88/4165)\n",
         "hidden": false,
         "locked": false
        }
       ],
       "scored": true,
       "setup": "",
       "teardown": "",
       "type": "doctest"
      }
     ]
    },
    "q4i": {
     "name": "q4i",
     "points": 2,
     "suites": [
      {
       "cases": [
        {
         "code": ">>> assert len(cards) == 52\n",
         "hidden": false,
         "locked": false
        },
        {
         "code": ">>> a=set(cards)\n>>> \n>>> b=set(['C10','C2','C3','C4','C5','C6','C7','C8','C9','CA','CJ','CK','CQ','D10','D2','D3','D4','D5','D6','D7','D8','D9','DA','DJ','DK','DQ','H10','H2','H3','H4','H5','H6','H7','H8','H9','HA','HJ','HK','HQ','S10','S2','S3','S4','S5','S6','S7','S8','S9','SA','SJ','SK','SQ'])\n>>> \n>>> assert a==b\n",
         "hidden": false,
         "locked": false
        }
       ],
       "scored": true,
       "setup": "",
       "teardown": "",
       "type": "doctest"
      }
     ]
    },
    "q4ii": {
     "name": "q4ii",
     "points": 3,
     "suites": [
      {
       "cases": [
        {
         "code": ">>> assert (three_kind(['H3', 'S3', 'D3', 'H4', 'C5']) == True)\n",
         "hidden": false,
         "locked": false
        },
        {
         "code": ">>> assert (three_kind(['C4', 'D4', 'S4', 'H4', 'H2']) == False)\n",
         "hidden": false,
         "locked": false
        },
        {
         "code": ">>> assert (three_kind(['SA', 'S4', 'S4', 'H5', 'H2']) == False)\n",
         "hidden": false,
         "locked": false
        },
        {
         "code": ">>> assert (three_kind(['SA', 'DA', 'HA', 'C5', 'H5']) == False)\n",
         "hidden": false,
         "locked": false
        }
       ],
       "scored": true,
       "setup": "",
       "teardown": "",
       "type": "doctest"
      }
     ]
    },
    "q5acheck": {
     "name": "q5acheck",
     "points": 0,
     "suites": [
      {
       "cases": [
        {
         "code": ">>> assert np.isclose(q5a_answer, 33/800)\n",
         "hidden": false,
         "locked": false
        }
       ],
       "scored": true,
       "setup": "",
       "teardown": "",
       "type": "doctest"
      }
     ]
    },
    "q5bcheck": {
     "name": "q5bcheck",
     "points": 0,
     "suites": [
      {
       "cases": [
        {
         "code": ">>> assert np.isclose(q5b_answer, 10/11)\n",
         "hidden": false,
         "locked": false
        }
       ],
       "scored": true,
       "setup": "",
       "teardown": "",
       "type": "doctest"
      }
     ]
    },
    "q5ccheck": {
     "name": "q5ccheck",
     "points": 0,
     "suites": [
      {
       "cases": [
        {
         "code": ">>> assert q5c_answer.lower() == 'dependent'\n",
         "hidden": false,
         "locked": false
        }
       ],
       "scored": true,
       "setup": "",
       "teardown": "",
       "type": "doctest"
      }
     ]
    },
    "q6acheck": {
     "name": "q6acheck",
     "points": 0,
     "suites": [
      {
       "cases": [
        {
         "code": ">>> assert np.isclose(q6a_answer, 16/36)\n",
         "hidden": false,
         "locked": false
        }
       ],
       "scored": true,
       "setup": "",
       "teardown": "",
       "type": "doctest"
      }
     ]
    },
    "q7check": {
     "name": "q7check",
     "points": 0,
     "suites": [
      {
       "cases": [
        {
         "code": ">>> assert [x.lower() for x in q7_answer] == ['dependent', 'independent', 'dependent']\n",
         "hidden": false,
         "locked": false
        }
       ],
       "scored": true,
       "setup": "",
       "teardown": "",
       "type": "doctest"
      }
     ]
    }
   }
  }
 },
 "nbformat": 4,
 "nbformat_minor": 5
}
